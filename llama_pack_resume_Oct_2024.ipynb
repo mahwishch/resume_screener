{
  "cells": [
    {
      "cell_type": "markdown",
      "id": "92dad89e-d84a-4d85-85e1-6beaed293605",
      "metadata": {
        "id": "92dad89e-d84a-4d85-85e1-6beaed293605"
      },
      "source": [
        "# Llama Pack - Resume Screener 📄\n",
        "\n",
        "\n",
        "You can find all packs on https://llamahub.ai\n",
        "\n",
        "The resume screener is designed to analyze a candidate's resume according to a set of criteria, and decide whether the candidate is a fit for the job.\n",
        "\n",
        "in this example we'll evaluate a sample resume."
      ]
    },
    {
      "cell_type": "code",
      "execution_count": null,
      "id": "38046036",
      "metadata": {
        "collapsed": true,
        "id": "38046036",
        "outputId": "1b794f8a-20e4-4b81-c8fb-6a457f7023a9",
        "colab": {
          "base_uri": "https://localhost:8080/"
        }
      },
      "outputs": [
        {
          "output_type": "stream",
          "name": "stdout",
          "text": [
            "Collecting llama-index-readers-wikipedia\n",
            "  Downloading llama_index_readers_wikipedia-0.2.0-py3-none-any.whl.metadata (1.5 kB)\n",
            "Collecting llama-index-core<0.12.0,>=0.11.0 (from llama-index-readers-wikipedia)\n",
            "  Downloading llama_index_core-0.11.18-py3-none-any.whl.metadata (2.4 kB)\n",
            "Requirement already satisfied: PyYAML>=6.0.1 in /usr/local/lib/python3.10/dist-packages (from llama-index-core<0.12.0,>=0.11.0->llama-index-readers-wikipedia) (6.0.2)\n",
            "Requirement already satisfied: SQLAlchemy>=1.4.49 in /usr/local/lib/python3.10/dist-packages (from SQLAlchemy[asyncio]>=1.4.49->llama-index-core<0.12.0,>=0.11.0->llama-index-readers-wikipedia) (2.0.35)\n",
            "Requirement already satisfied: aiohttp<4.0.0,>=3.8.6 in /usr/local/lib/python3.10/dist-packages (from llama-index-core<0.12.0,>=0.11.0->llama-index-readers-wikipedia) (3.10.10)\n",
            "Collecting dataclasses-json (from llama-index-core<0.12.0,>=0.11.0->llama-index-readers-wikipedia)\n",
            "  Downloading dataclasses_json-0.6.7-py3-none-any.whl.metadata (25 kB)\n",
            "Requirement already satisfied: deprecated>=1.2.9.3 in /usr/local/lib/python3.10/dist-packages (from llama-index-core<0.12.0,>=0.11.0->llama-index-readers-wikipedia) (1.2.14)\n",
            "Collecting dirtyjson<2.0.0,>=1.0.8 (from llama-index-core<0.12.0,>=0.11.0->llama-index-readers-wikipedia)\n",
            "  Downloading dirtyjson-1.0.8-py3-none-any.whl.metadata (11 kB)\n",
            "Requirement already satisfied: fsspec>=2023.5.0 in /usr/local/lib/python3.10/dist-packages (from llama-index-core<0.12.0,>=0.11.0->llama-index-readers-wikipedia) (2024.6.1)\n",
            "Collecting httpx (from llama-index-core<0.12.0,>=0.11.0->llama-index-readers-wikipedia)\n",
            "  Downloading httpx-0.27.2-py3-none-any.whl.metadata (7.1 kB)\n",
            "Requirement already satisfied: nest-asyncio<2.0.0,>=1.5.8 in /usr/local/lib/python3.10/dist-packages (from llama-index-core<0.12.0,>=0.11.0->llama-index-readers-wikipedia) (1.6.0)\n",
            "Requirement already satisfied: networkx>=3.0 in /usr/local/lib/python3.10/dist-packages (from llama-index-core<0.12.0,>=0.11.0->llama-index-readers-wikipedia) (3.4)\n",
            "Collecting nltk>3.8.1 (from llama-index-core<0.12.0,>=0.11.0->llama-index-readers-wikipedia)\n",
            "  Downloading nltk-3.9.1-py3-none-any.whl.metadata (2.9 kB)\n",
            "Requirement already satisfied: numpy<2.0.0 in /usr/local/lib/python3.10/dist-packages (from llama-index-core<0.12.0,>=0.11.0->llama-index-readers-wikipedia) (1.26.4)\n",
            "Requirement already satisfied: pillow>=9.0.0 in /usr/local/lib/python3.10/dist-packages (from llama-index-core<0.12.0,>=0.11.0->llama-index-readers-wikipedia) (10.4.0)\n",
            "Requirement already satisfied: pydantic<3.0.0,>=2.7.0 in /usr/local/lib/python3.10/dist-packages (from llama-index-core<0.12.0,>=0.11.0->llama-index-readers-wikipedia) (2.9.2)\n",
            "Requirement already satisfied: requests>=2.31.0 in /usr/local/lib/python3.10/dist-packages (from llama-index-core<0.12.0,>=0.11.0->llama-index-readers-wikipedia) (2.32.3)\n",
            "Collecting tenacity!=8.4.0,<9.0.0,>=8.2.0 (from llama-index-core<0.12.0,>=0.11.0->llama-index-readers-wikipedia)\n",
            "  Downloading tenacity-8.5.0-py3-none-any.whl.metadata (1.2 kB)\n",
            "Collecting tiktoken>=0.3.3 (from llama-index-core<0.12.0,>=0.11.0->llama-index-readers-wikipedia)\n",
            "  Downloading tiktoken-0.8.0-cp310-cp310-manylinux_2_17_x86_64.manylinux2014_x86_64.whl.metadata (6.6 kB)\n",
            "Requirement already satisfied: tqdm<5.0.0,>=4.66.1 in /usr/local/lib/python3.10/dist-packages (from llama-index-core<0.12.0,>=0.11.0->llama-index-readers-wikipedia) (4.66.5)\n",
            "Requirement already satisfied: typing-extensions>=4.5.0 in /usr/local/lib/python3.10/dist-packages (from llama-index-core<0.12.0,>=0.11.0->llama-index-readers-wikipedia) (4.12.2)\n",
            "Collecting typing-inspect>=0.8.0 (from llama-index-core<0.12.0,>=0.11.0->llama-index-readers-wikipedia)\n",
            "  Downloading typing_inspect-0.9.0-py3-none-any.whl.metadata (1.5 kB)\n",
            "Requirement already satisfied: wrapt in /usr/local/lib/python3.10/dist-packages (from llama-index-core<0.12.0,>=0.11.0->llama-index-readers-wikipedia) (1.16.0)\n",
            "Requirement already satisfied: aiohappyeyeballs>=2.3.0 in /usr/local/lib/python3.10/dist-packages (from aiohttp<4.0.0,>=3.8.6->llama-index-core<0.12.0,>=0.11.0->llama-index-readers-wikipedia) (2.4.3)\n",
            "Requirement already satisfied: aiosignal>=1.1.2 in /usr/local/lib/python3.10/dist-packages (from aiohttp<4.0.0,>=3.8.6->llama-index-core<0.12.0,>=0.11.0->llama-index-readers-wikipedia) (1.3.1)\n",
            "Requirement already satisfied: attrs>=17.3.0 in /usr/local/lib/python3.10/dist-packages (from aiohttp<4.0.0,>=3.8.6->llama-index-core<0.12.0,>=0.11.0->llama-index-readers-wikipedia) (24.2.0)\n",
            "Requirement already satisfied: frozenlist>=1.1.1 in /usr/local/lib/python3.10/dist-packages (from aiohttp<4.0.0,>=3.8.6->llama-index-core<0.12.0,>=0.11.0->llama-index-readers-wikipedia) (1.4.1)\n",
            "Requirement already satisfied: multidict<7.0,>=4.5 in /usr/local/lib/python3.10/dist-packages (from aiohttp<4.0.0,>=3.8.6->llama-index-core<0.12.0,>=0.11.0->llama-index-readers-wikipedia) (6.1.0)\n",
            "Requirement already satisfied: yarl<2.0,>=1.12.0 in /usr/local/lib/python3.10/dist-packages (from aiohttp<4.0.0,>=3.8.6->llama-index-core<0.12.0,>=0.11.0->llama-index-readers-wikipedia) (1.14.0)\n",
            "Requirement already satisfied: async-timeout<5.0,>=4.0 in /usr/local/lib/python3.10/dist-packages (from aiohttp<4.0.0,>=3.8.6->llama-index-core<0.12.0,>=0.11.0->llama-index-readers-wikipedia) (4.0.3)\n",
            "Requirement already satisfied: click in /usr/local/lib/python3.10/dist-packages (from nltk>3.8.1->llama-index-core<0.12.0,>=0.11.0->llama-index-readers-wikipedia) (8.1.7)\n",
            "Requirement already satisfied: joblib in /usr/local/lib/python3.10/dist-packages (from nltk>3.8.1->llama-index-core<0.12.0,>=0.11.0->llama-index-readers-wikipedia) (1.4.2)\n",
            "Requirement already satisfied: regex>=2021.8.3 in /usr/local/lib/python3.10/dist-packages (from nltk>3.8.1->llama-index-core<0.12.0,>=0.11.0->llama-index-readers-wikipedia) (2024.9.11)\n",
            "Requirement already satisfied: annotated-types>=0.6.0 in /usr/local/lib/python3.10/dist-packages (from pydantic<3.0.0,>=2.7.0->llama-index-core<0.12.0,>=0.11.0->llama-index-readers-wikipedia) (0.7.0)\n",
            "Requirement already satisfied: pydantic-core==2.23.4 in /usr/local/lib/python3.10/dist-packages (from pydantic<3.0.0,>=2.7.0->llama-index-core<0.12.0,>=0.11.0->llama-index-readers-wikipedia) (2.23.4)\n",
            "Requirement already satisfied: charset-normalizer<4,>=2 in /usr/local/lib/python3.10/dist-packages (from requests>=2.31.0->llama-index-core<0.12.0,>=0.11.0->llama-index-readers-wikipedia) (3.4.0)\n",
            "Requirement already satisfied: idna<4,>=2.5 in /usr/local/lib/python3.10/dist-packages (from requests>=2.31.0->llama-index-core<0.12.0,>=0.11.0->llama-index-readers-wikipedia) (3.10)\n",
            "Requirement already satisfied: urllib3<3,>=1.21.1 in /usr/local/lib/python3.10/dist-packages (from requests>=2.31.0->llama-index-core<0.12.0,>=0.11.0->llama-index-readers-wikipedia) (2.2.3)\n",
            "Requirement already satisfied: certifi>=2017.4.17 in /usr/local/lib/python3.10/dist-packages (from requests>=2.31.0->llama-index-core<0.12.0,>=0.11.0->llama-index-readers-wikipedia) (2024.8.30)\n",
            "Requirement already satisfied: greenlet!=0.4.17 in /usr/local/lib/python3.10/dist-packages (from SQLAlchemy>=1.4.49->SQLAlchemy[asyncio]>=1.4.49->llama-index-core<0.12.0,>=0.11.0->llama-index-readers-wikipedia) (3.1.1)\n",
            "Collecting mypy-extensions>=0.3.0 (from typing-inspect>=0.8.0->llama-index-core<0.12.0,>=0.11.0->llama-index-readers-wikipedia)\n",
            "  Downloading mypy_extensions-1.0.0-py3-none-any.whl.metadata (1.1 kB)\n",
            "Collecting marshmallow<4.0.0,>=3.18.0 (from dataclasses-json->llama-index-core<0.12.0,>=0.11.0->llama-index-readers-wikipedia)\n",
            "  Downloading marshmallow-3.22.0-py3-none-any.whl.metadata (7.2 kB)\n",
            "Requirement already satisfied: anyio in /usr/local/lib/python3.10/dist-packages (from httpx->llama-index-core<0.12.0,>=0.11.0->llama-index-readers-wikipedia) (3.7.1)\n",
            "Collecting httpcore==1.* (from httpx->llama-index-core<0.12.0,>=0.11.0->llama-index-readers-wikipedia)\n",
            "  Downloading httpcore-1.0.6-py3-none-any.whl.metadata (21 kB)\n",
            "Requirement already satisfied: sniffio in /usr/local/lib/python3.10/dist-packages (from httpx->llama-index-core<0.12.0,>=0.11.0->llama-index-readers-wikipedia) (1.3.1)\n",
            "Collecting h11<0.15,>=0.13 (from httpcore==1.*->httpx->llama-index-core<0.12.0,>=0.11.0->llama-index-readers-wikipedia)\n",
            "  Downloading h11-0.14.0-py3-none-any.whl.metadata (8.2 kB)\n",
            "Requirement already satisfied: packaging>=17.0 in /usr/local/lib/python3.10/dist-packages (from marshmallow<4.0.0,>=3.18.0->dataclasses-json->llama-index-core<0.12.0,>=0.11.0->llama-index-readers-wikipedia) (24.1)\n",
            "Requirement already satisfied: propcache>=0.2.0 in /usr/local/lib/python3.10/dist-packages (from yarl<2.0,>=1.12.0->aiohttp<4.0.0,>=3.8.6->llama-index-core<0.12.0,>=0.11.0->llama-index-readers-wikipedia) (0.2.0)\n",
            "Requirement already satisfied: exceptiongroup in /usr/local/lib/python3.10/dist-packages (from anyio->httpx->llama-index-core<0.12.0,>=0.11.0->llama-index-readers-wikipedia) (1.2.2)\n",
            "Downloading llama_index_readers_wikipedia-0.2.0-py3-none-any.whl (2.7 kB)\n",
            "Downloading llama_index_core-0.11.18-py3-none-any.whl (1.6 MB)\n",
            "\u001b[2K   \u001b[90m━━━━━━━━━━━━━━━━━━━━━━━━━━━━━━━━━━━━━━━━\u001b[0m \u001b[32m1.6/1.6 MB\u001b[0m \u001b[31m20.9 MB/s\u001b[0m eta \u001b[36m0:00:00\u001b[0m\n",
            "\u001b[?25hDownloading dirtyjson-1.0.8-py3-none-any.whl (25 kB)\n",
            "Downloading nltk-3.9.1-py3-none-any.whl (1.5 MB)\n",
            "\u001b[2K   \u001b[90m━━━━━━━━━━━━━━━━━━━━━━━━━━━━━━━━━━━━━━━━\u001b[0m \u001b[32m1.5/1.5 MB\u001b[0m \u001b[31m27.0 MB/s\u001b[0m eta \u001b[36m0:00:00\u001b[0m\n",
            "\u001b[?25hDownloading tenacity-8.5.0-py3-none-any.whl (28 kB)\n",
            "Downloading tiktoken-0.8.0-cp310-cp310-manylinux_2_17_x86_64.manylinux2014_x86_64.whl (1.2 MB)\n",
            "\u001b[2K   \u001b[90m━━━━━━━━━━━━━━━━━━━━━━━━━━━━━━━━━━━━━━━━\u001b[0m \u001b[32m1.2/1.2 MB\u001b[0m \u001b[31m27.1 MB/s\u001b[0m eta \u001b[36m0:00:00\u001b[0m\n",
            "\u001b[?25hDownloading typing_inspect-0.9.0-py3-none-any.whl (8.8 kB)\n",
            "Downloading dataclasses_json-0.6.7-py3-none-any.whl (28 kB)\n",
            "Downloading httpx-0.27.2-py3-none-any.whl (76 kB)\n",
            "\u001b[2K   \u001b[90m━━━━━━━━━━━━━━━━━━━━━━━━━━━━━━━━━━━━━━━━\u001b[0m \u001b[32m76.4/76.4 kB\u001b[0m \u001b[31m4.4 MB/s\u001b[0m eta \u001b[36m0:00:00\u001b[0m\n",
            "\u001b[?25hDownloading httpcore-1.0.6-py3-none-any.whl (78 kB)\n",
            "\u001b[2K   \u001b[90m━━━━━━━━━━━━━━━━━━━━━━━━━━━━━━━━━━━━━━━━\u001b[0m \u001b[32m78.0/78.0 kB\u001b[0m \u001b[31m5.0 MB/s\u001b[0m eta \u001b[36m0:00:00\u001b[0m\n",
            "\u001b[?25hDownloading marshmallow-3.22.0-py3-none-any.whl (49 kB)\n",
            "\u001b[2K   \u001b[90m━━━━━━━━━━━━━━━━━━━━━━━━━━━━━━━━━━━━━━━━\u001b[0m \u001b[32m49.3/49.3 kB\u001b[0m \u001b[31m2.7 MB/s\u001b[0m eta \u001b[36m0:00:00\u001b[0m\n",
            "\u001b[?25hDownloading mypy_extensions-1.0.0-py3-none-any.whl (4.7 kB)\n",
            "Downloading h11-0.14.0-py3-none-any.whl (58 kB)\n",
            "\u001b[2K   \u001b[90m━━━━━━━━━━━━━━━━━━━━━━━━━━━━━━━━━━━━━━━━\u001b[0m \u001b[32m58.3/58.3 kB\u001b[0m \u001b[31m2.1 MB/s\u001b[0m eta \u001b[36m0:00:00\u001b[0m\n",
            "\u001b[?25hInstalling collected packages: dirtyjson, tenacity, nltk, mypy-extensions, marshmallow, h11, typing-inspect, tiktoken, httpcore, httpx, dataclasses-json, llama-index-core, llama-index-readers-wikipedia\n",
            "  Attempting uninstall: tenacity\n",
            "    Found existing installation: tenacity 9.0.0\n",
            "    Uninstalling tenacity-9.0.0:\n",
            "      Successfully uninstalled tenacity-9.0.0\n",
            "  Attempting uninstall: nltk\n",
            "    Found existing installation: nltk 3.8.1\n",
            "    Uninstalling nltk-3.8.1:\n",
            "      Successfully uninstalled nltk-3.8.1\n",
            "Successfully installed dataclasses-json-0.6.7 dirtyjson-1.0.8 h11-0.14.0 httpcore-1.0.6 httpx-0.27.2 llama-index-core-0.11.18 llama-index-readers-wikipedia-0.2.0 marshmallow-3.22.0 mypy-extensions-1.0.0 nltk-3.9.1 tenacity-8.5.0 tiktoken-0.8.0 typing-inspect-0.9.0\n"
          ]
        }
      ],
      "source": [
        "%pip install llama-index-readers-wikipedia"
      ]
    },
    {
      "cell_type": "code",
      "execution_count": null,
      "id": "e4722b0b-ff5e-4e71-990b-94ec65f8b359",
      "metadata": {
        "collapsed": true,
        "id": "e4722b0b-ff5e-4e71-990b-94ec65f8b359",
        "outputId": "0e8812a7-651a-475a-f76f-d7350588d1a3",
        "colab": {
          "base_uri": "https://localhost:8080/"
        }
      },
      "outputs": [
        {
          "output_type": "stream",
          "name": "stdout",
          "text": [
            "Collecting llama-index\n",
            "  Downloading llama_index-0.11.18-py3-none-any.whl.metadata (11 kB)\n",
            "Collecting llama-hub\n",
            "  Downloading llama_hub-0.0.79.post1-py3-none-any.whl.metadata (16 kB)\n",
            "Collecting wikipedia\n",
            "  Downloading wikipedia-1.4.0.tar.gz (27 kB)\n",
            "  Preparing metadata (setup.py) ... \u001b[?25l\u001b[?25hdone\n",
            "Collecting llama-index-agent-openai<0.4.0,>=0.3.4 (from llama-index)\n",
            "  Downloading llama_index_agent_openai-0.3.4-py3-none-any.whl.metadata (728 bytes)\n",
            "Collecting llama-index-cli<0.4.0,>=0.3.1 (from llama-index)\n",
            "  Downloading llama_index_cli-0.3.1-py3-none-any.whl.metadata (1.5 kB)\n",
            "Requirement already satisfied: llama-index-core<0.12.0,>=0.11.18 in /usr/local/lib/python3.10/dist-packages (from llama-index) (0.11.18)\n",
            "Collecting llama-index-embeddings-openai<0.3.0,>=0.2.4 (from llama-index)\n",
            "  Downloading llama_index_embeddings_openai-0.2.5-py3-none-any.whl.metadata (686 bytes)\n",
            "Collecting llama-index-indices-managed-llama-cloud>=0.3.0 (from llama-index)\n",
            "  Downloading llama_index_indices_managed_llama_cloud-0.4.0-py3-none-any.whl.metadata (3.8 kB)\n",
            "Collecting llama-index-legacy<0.10.0,>=0.9.48 (from llama-index)\n",
            "  Downloading llama_index_legacy-0.9.48.post3-py3-none-any.whl.metadata (8.5 kB)\n",
            "Collecting llama-index-llms-openai<0.3.0,>=0.2.10 (from llama-index)\n",
            "  Downloading llama_index_llms_openai-0.2.14-py3-none-any.whl.metadata (3.3 kB)\n",
            "Collecting llama-index-multi-modal-llms-openai<0.3.0,>=0.2.0 (from llama-index)\n",
            "  Downloading llama_index_multi_modal_llms_openai-0.2.2-py3-none-any.whl.metadata (678 bytes)\n",
            "Collecting llama-index-program-openai<0.3.0,>=0.2.0 (from llama-index)\n",
            "  Downloading llama_index_program_openai-0.2.0-py3-none-any.whl.metadata (766 bytes)\n",
            "Collecting llama-index-question-gen-openai<0.3.0,>=0.2.0 (from llama-index)\n",
            "  Downloading llama_index_question_gen_openai-0.2.0-py3-none-any.whl.metadata (785 bytes)\n",
            "Collecting llama-index-readers-file<0.3.0,>=0.2.0 (from llama-index)\n",
            "  Downloading llama_index_readers_file-0.2.2-py3-none-any.whl.metadata (5.4 kB)\n",
            "Collecting llama-index-readers-llama-parse>=0.3.0 (from llama-index)\n",
            "  Downloading llama_index_readers_llama_parse-0.3.0-py3-none-any.whl.metadata (3.5 kB)\n",
            "Requirement already satisfied: nltk>3.8.1 in /usr/local/lib/python3.10/dist-packages (from llama-index) (3.9.1)\n",
            "Collecting html2text (from llama-hub)\n",
            "  Downloading html2text-2024.2.26.tar.gz (56 kB)\n",
            "\u001b[2K     \u001b[90m━━━━━━━━━━━━━━━━━━━━━━━━━━━━━━━━━━━━━━━━\u001b[0m \u001b[32m56.5/56.5 kB\u001b[0m \u001b[31m2.1 MB/s\u001b[0m eta \u001b[36m0:00:00\u001b[0m\n",
            "\u001b[?25h  Preparing metadata (setup.py) ... \u001b[?25l\u001b[?25hdone\n",
            "Requirement already satisfied: psutil in /usr/local/lib/python3.10/dist-packages (from llama-hub) (5.9.5)\n",
            "Collecting pyaml<24.0.0,>=23.9.7 (from llama-hub)\n",
            "  Downloading pyaml-23.12.0-py3-none-any.whl.metadata (11 kB)\n",
            "Collecting retrying (from llama-hub)\n",
            "  Downloading retrying-1.3.4-py3-none-any.whl.metadata (6.9 kB)\n",
            "Requirement already satisfied: beautifulsoup4 in /usr/local/lib/python3.10/dist-packages (from wikipedia) (4.12.3)\n",
            "Requirement already satisfied: requests<3.0.0,>=2.0.0 in /usr/local/lib/python3.10/dist-packages (from wikipedia) (2.32.3)\n",
            "Collecting openai>=1.14.0 (from llama-index-agent-openai<0.4.0,>=0.3.4->llama-index)\n",
            "  Downloading openai-1.51.2-py3-none-any.whl.metadata (24 kB)\n",
            "Requirement already satisfied: PyYAML>=6.0.1 in /usr/local/lib/python3.10/dist-packages (from llama-index-core<0.12.0,>=0.11.18->llama-index) (6.0.2)\n",
            "Requirement already satisfied: SQLAlchemy>=1.4.49 in /usr/local/lib/python3.10/dist-packages (from SQLAlchemy[asyncio]>=1.4.49->llama-index-core<0.12.0,>=0.11.18->llama-index) (2.0.35)\n",
            "Requirement already satisfied: aiohttp<4.0.0,>=3.8.6 in /usr/local/lib/python3.10/dist-packages (from llama-index-core<0.12.0,>=0.11.18->llama-index) (3.10.10)\n",
            "Requirement already satisfied: dataclasses-json in /usr/local/lib/python3.10/dist-packages (from llama-index-core<0.12.0,>=0.11.18->llama-index) (0.6.7)\n",
            "Requirement already satisfied: deprecated>=1.2.9.3 in /usr/local/lib/python3.10/dist-packages (from llama-index-core<0.12.0,>=0.11.18->llama-index) (1.2.14)\n",
            "Requirement already satisfied: dirtyjson<2.0.0,>=1.0.8 in /usr/local/lib/python3.10/dist-packages (from llama-index-core<0.12.0,>=0.11.18->llama-index) (1.0.8)\n",
            "Requirement already satisfied: fsspec>=2023.5.0 in /usr/local/lib/python3.10/dist-packages (from llama-index-core<0.12.0,>=0.11.18->llama-index) (2024.6.1)\n",
            "Requirement already satisfied: httpx in /usr/local/lib/python3.10/dist-packages (from llama-index-core<0.12.0,>=0.11.18->llama-index) (0.27.2)\n",
            "Requirement already satisfied: nest-asyncio<2.0.0,>=1.5.8 in /usr/local/lib/python3.10/dist-packages (from llama-index-core<0.12.0,>=0.11.18->llama-index) (1.6.0)\n",
            "Requirement already satisfied: networkx>=3.0 in /usr/local/lib/python3.10/dist-packages (from llama-index-core<0.12.0,>=0.11.18->llama-index) (3.4)\n",
            "Requirement already satisfied: numpy<2.0.0 in /usr/local/lib/python3.10/dist-packages (from llama-index-core<0.12.0,>=0.11.18->llama-index) (1.26.4)\n",
            "Requirement already satisfied: pillow>=9.0.0 in /usr/local/lib/python3.10/dist-packages (from llama-index-core<0.12.0,>=0.11.18->llama-index) (10.4.0)\n",
            "Requirement already satisfied: pydantic<3.0.0,>=2.7.0 in /usr/local/lib/python3.10/dist-packages (from llama-index-core<0.12.0,>=0.11.18->llama-index) (2.9.2)\n",
            "Requirement already satisfied: tenacity!=8.4.0,<9.0.0,>=8.2.0 in /usr/local/lib/python3.10/dist-packages (from llama-index-core<0.12.0,>=0.11.18->llama-index) (8.5.0)\n",
            "Requirement already satisfied: tiktoken>=0.3.3 in /usr/local/lib/python3.10/dist-packages (from llama-index-core<0.12.0,>=0.11.18->llama-index) (0.8.0)\n",
            "Requirement already satisfied: tqdm<5.0.0,>=4.66.1 in /usr/local/lib/python3.10/dist-packages (from llama-index-core<0.12.0,>=0.11.18->llama-index) (4.66.5)\n",
            "Requirement already satisfied: typing-extensions>=4.5.0 in /usr/local/lib/python3.10/dist-packages (from llama-index-core<0.12.0,>=0.11.18->llama-index) (4.12.2)\n",
            "Requirement already satisfied: typing-inspect>=0.8.0 in /usr/local/lib/python3.10/dist-packages (from llama-index-core<0.12.0,>=0.11.18->llama-index) (0.9.0)\n",
            "Requirement already satisfied: wrapt in /usr/local/lib/python3.10/dist-packages (from llama-index-core<0.12.0,>=0.11.18->llama-index) (1.16.0)\n",
            "Collecting llama-cloud>=0.0.11 (from llama-index-indices-managed-llama-cloud>=0.3.0->llama-index)\n",
            "  Downloading llama_cloud-0.1.2-py3-none-any.whl.metadata (763 bytes)\n",
            "Requirement already satisfied: pandas in /usr/local/lib/python3.10/dist-packages (from llama-index-legacy<0.10.0,>=0.9.48->llama-index) (2.2.2)\n",
            "Collecting pypdf<5.0.0,>=4.0.1 (from llama-index-readers-file<0.3.0,>=0.2.0->llama-index)\n",
            "  Downloading pypdf-4.3.1-py3-none-any.whl.metadata (7.4 kB)\n",
            "Collecting striprtf<0.0.27,>=0.0.26 (from llama-index-readers-file<0.3.0,>=0.2.0->llama-index)\n",
            "  Downloading striprtf-0.0.26-py3-none-any.whl.metadata (2.1 kB)\n",
            "Requirement already satisfied: soupsieve>1.2 in /usr/local/lib/python3.10/dist-packages (from beautifulsoup4->wikipedia) (2.6)\n",
            "Collecting llama-parse>=0.5.0 (from llama-index-readers-llama-parse>=0.3.0->llama-index)\n",
            "  Downloading llama_parse-0.5.8-py3-none-any.whl.metadata (6.4 kB)\n",
            "Requirement already satisfied: click in /usr/local/lib/python3.10/dist-packages (from nltk>3.8.1->llama-index) (8.1.7)\n",
            "Requirement already satisfied: joblib in /usr/local/lib/python3.10/dist-packages (from nltk>3.8.1->llama-index) (1.4.2)\n",
            "Requirement already satisfied: regex>=2021.8.3 in /usr/local/lib/python3.10/dist-packages (from nltk>3.8.1->llama-index) (2024.9.11)\n",
            "Requirement already satisfied: charset-normalizer<4,>=2 in /usr/local/lib/python3.10/dist-packages (from requests<3.0.0,>=2.0.0->wikipedia) (3.4.0)\n",
            "Requirement already satisfied: idna<4,>=2.5 in /usr/local/lib/python3.10/dist-packages (from requests<3.0.0,>=2.0.0->wikipedia) (3.10)\n",
            "Requirement already satisfied: urllib3<3,>=1.21.1 in /usr/local/lib/python3.10/dist-packages (from requests<3.0.0,>=2.0.0->wikipedia) (2.2.3)\n",
            "Requirement already satisfied: certifi>=2017.4.17 in /usr/local/lib/python3.10/dist-packages (from requests<3.0.0,>=2.0.0->wikipedia) (2024.8.30)\n",
            "Requirement already satisfied: six>=1.7.0 in /usr/local/lib/python3.10/dist-packages (from retrying->llama-hub) (1.16.0)\n",
            "Requirement already satisfied: aiohappyeyeballs>=2.3.0 in /usr/local/lib/python3.10/dist-packages (from aiohttp<4.0.0,>=3.8.6->llama-index-core<0.12.0,>=0.11.18->llama-index) (2.4.3)\n",
            "Requirement already satisfied: aiosignal>=1.1.2 in /usr/local/lib/python3.10/dist-packages (from aiohttp<4.0.0,>=3.8.6->llama-index-core<0.12.0,>=0.11.18->llama-index) (1.3.1)\n",
            "Requirement already satisfied: attrs>=17.3.0 in /usr/local/lib/python3.10/dist-packages (from aiohttp<4.0.0,>=3.8.6->llama-index-core<0.12.0,>=0.11.18->llama-index) (24.2.0)\n",
            "Requirement already satisfied: frozenlist>=1.1.1 in /usr/local/lib/python3.10/dist-packages (from aiohttp<4.0.0,>=3.8.6->llama-index-core<0.12.0,>=0.11.18->llama-index) (1.4.1)\n",
            "Requirement already satisfied: multidict<7.0,>=4.5 in /usr/local/lib/python3.10/dist-packages (from aiohttp<4.0.0,>=3.8.6->llama-index-core<0.12.0,>=0.11.18->llama-index) (6.1.0)\n",
            "Requirement already satisfied: yarl<2.0,>=1.12.0 in /usr/local/lib/python3.10/dist-packages (from aiohttp<4.0.0,>=3.8.6->llama-index-core<0.12.0,>=0.11.18->llama-index) (1.14.0)\n",
            "Requirement already satisfied: async-timeout<5.0,>=4.0 in /usr/local/lib/python3.10/dist-packages (from aiohttp<4.0.0,>=3.8.6->llama-index-core<0.12.0,>=0.11.18->llama-index) (4.0.3)\n",
            "Requirement already satisfied: anyio in /usr/local/lib/python3.10/dist-packages (from httpx->llama-index-core<0.12.0,>=0.11.18->llama-index) (3.7.1)\n",
            "Requirement already satisfied: httpcore==1.* in /usr/local/lib/python3.10/dist-packages (from httpx->llama-index-core<0.12.0,>=0.11.18->llama-index) (1.0.6)\n",
            "Requirement already satisfied: sniffio in /usr/local/lib/python3.10/dist-packages (from httpx->llama-index-core<0.12.0,>=0.11.18->llama-index) (1.3.1)\n",
            "Requirement already satisfied: h11<0.15,>=0.13 in /usr/local/lib/python3.10/dist-packages (from httpcore==1.*->httpx->llama-index-core<0.12.0,>=0.11.18->llama-index) (0.14.0)\n",
            "Requirement already satisfied: distro<2,>=1.7.0 in /usr/lib/python3/dist-packages (from openai>=1.14.0->llama-index-agent-openai<0.4.0,>=0.3.4->llama-index) (1.7.0)\n",
            "Collecting jiter<1,>=0.4.0 (from openai>=1.14.0->llama-index-agent-openai<0.4.0,>=0.3.4->llama-index)\n",
            "  Downloading jiter-0.6.1-cp310-cp310-manylinux_2_17_x86_64.manylinux2014_x86_64.whl.metadata (5.2 kB)\n",
            "Requirement already satisfied: annotated-types>=0.6.0 in /usr/local/lib/python3.10/dist-packages (from pydantic<3.0.0,>=2.7.0->llama-index-core<0.12.0,>=0.11.18->llama-index) (0.7.0)\n",
            "Requirement already satisfied: pydantic-core==2.23.4 in /usr/local/lib/python3.10/dist-packages (from pydantic<3.0.0,>=2.7.0->llama-index-core<0.12.0,>=0.11.18->llama-index) (2.23.4)\n",
            "Requirement already satisfied: greenlet!=0.4.17 in /usr/local/lib/python3.10/dist-packages (from SQLAlchemy>=1.4.49->SQLAlchemy[asyncio]>=1.4.49->llama-index-core<0.12.0,>=0.11.18->llama-index) (3.1.1)\n",
            "Requirement already satisfied: mypy-extensions>=0.3.0 in /usr/local/lib/python3.10/dist-packages (from typing-inspect>=0.8.0->llama-index-core<0.12.0,>=0.11.18->llama-index) (1.0.0)\n",
            "Requirement already satisfied: marshmallow<4.0.0,>=3.18.0 in /usr/local/lib/python3.10/dist-packages (from dataclasses-json->llama-index-core<0.12.0,>=0.11.18->llama-index) (3.22.0)\n",
            "Requirement already satisfied: python-dateutil>=2.8.2 in /usr/local/lib/python3.10/dist-packages (from pandas->llama-index-legacy<0.10.0,>=0.9.48->llama-index) (2.8.2)\n",
            "Requirement already satisfied: pytz>=2020.1 in /usr/local/lib/python3.10/dist-packages (from pandas->llama-index-legacy<0.10.0,>=0.9.48->llama-index) (2024.2)\n",
            "Requirement already satisfied: tzdata>=2022.7 in /usr/local/lib/python3.10/dist-packages (from pandas->llama-index-legacy<0.10.0,>=0.9.48->llama-index) (2024.2)\n",
            "Requirement already satisfied: exceptiongroup in /usr/local/lib/python3.10/dist-packages (from anyio->httpx->llama-index-core<0.12.0,>=0.11.18->llama-index) (1.2.2)\n",
            "Requirement already satisfied: packaging>=17.0 in /usr/local/lib/python3.10/dist-packages (from marshmallow<4.0.0,>=3.18.0->dataclasses-json->llama-index-core<0.12.0,>=0.11.18->llama-index) (24.1)\n",
            "Requirement already satisfied: propcache>=0.2.0 in /usr/local/lib/python3.10/dist-packages (from yarl<2.0,>=1.12.0->aiohttp<4.0.0,>=3.8.6->llama-index-core<0.12.0,>=0.11.18->llama-index) (0.2.0)\n",
            "Downloading llama_index-0.11.18-py3-none-any.whl (6.8 kB)\n",
            "Downloading llama_hub-0.0.79.post1-py3-none-any.whl (103.9 MB)\n",
            "\u001b[2K   \u001b[90m━━━━━━━━━━━━━━━━━━━━━━━━━━━━━━━━━━━━━━━━\u001b[0m \u001b[32m103.9/103.9 MB\u001b[0m \u001b[31m7.3 MB/s\u001b[0m eta \u001b[36m0:00:00\u001b[0m\n",
            "\u001b[?25hDownloading llama_index_agent_openai-0.3.4-py3-none-any.whl (13 kB)\n",
            "Downloading llama_index_cli-0.3.1-py3-none-any.whl (27 kB)\n",
            "Downloading llama_index_embeddings_openai-0.2.5-py3-none-any.whl (6.1 kB)\n",
            "Downloading llama_index_indices_managed_llama_cloud-0.4.0-py3-none-any.whl (10 kB)\n",
            "Downloading llama_index_legacy-0.9.48.post3-py3-none-any.whl (1.2 MB)\n",
            "\u001b[2K   \u001b[90m━━━━━━━━━━━━━━━━━━━━━━━━━━━━━━━━━━━━━━━━\u001b[0m \u001b[32m1.2/1.2 MB\u001b[0m \u001b[31m46.3 MB/s\u001b[0m eta \u001b[36m0:00:00\u001b[0m\n",
            "\u001b[?25hDownloading llama_index_llms_openai-0.2.14-py3-none-any.whl (13 kB)\n",
            "Downloading llama_index_multi_modal_llms_openai-0.2.2-py3-none-any.whl (5.9 kB)\n",
            "Downloading llama_index_program_openai-0.2.0-py3-none-any.whl (5.3 kB)\n",
            "Downloading llama_index_question_gen_openai-0.2.0-py3-none-any.whl (2.9 kB)\n",
            "Downloading llama_index_readers_file-0.2.2-py3-none-any.whl (38 kB)\n",
            "Downloading llama_index_readers_llama_parse-0.3.0-py3-none-any.whl (2.5 kB)\n",
            "Downloading pyaml-23.12.0-py3-none-any.whl (23 kB)\n",
            "Downloading retrying-1.3.4-py3-none-any.whl (11 kB)\n",
            "Downloading llama_cloud-0.1.2-py3-none-any.whl (173 kB)\n",
            "\u001b[2K   \u001b[90m━━━━━━━━━━━━━━━━━━━━━━━━━━━━━━━━━━━━━━━━\u001b[0m \u001b[32m173.8/173.8 kB\u001b[0m \u001b[31m8.6 MB/s\u001b[0m eta \u001b[36m0:00:00\u001b[0m\n",
            "\u001b[?25hDownloading llama_parse-0.5.8-py3-none-any.whl (11 kB)\n",
            "Downloading openai-1.51.2-py3-none-any.whl (383 kB)\n",
            "\u001b[2K   \u001b[90m━━━━━━━━━━━━━━━━━━━━━━━━━━━━━━━━━━━━━━━━\u001b[0m \u001b[32m383.7/383.7 kB\u001b[0m \u001b[31m18.1 MB/s\u001b[0m eta \u001b[36m0:00:00\u001b[0m\n",
            "\u001b[?25hDownloading pypdf-4.3.1-py3-none-any.whl (295 kB)\n",
            "\u001b[2K   \u001b[90m━━━━━━━━━━━━━━━━━━━━━━━━━━━━━━━━━━━━━━━━\u001b[0m \u001b[32m295.8/295.8 kB\u001b[0m \u001b[31m18.8 MB/s\u001b[0m eta \u001b[36m0:00:00\u001b[0m\n",
            "\u001b[?25hDownloading striprtf-0.0.26-py3-none-any.whl (6.9 kB)\n",
            "Downloading jiter-0.6.1-cp310-cp310-manylinux_2_17_x86_64.manylinux2014_x86_64.whl (325 kB)\n",
            "\u001b[2K   \u001b[90m━━━━━━━━━━━━━━━━━━━━━━━━━━━━━━━━━━━━━━━━\u001b[0m \u001b[32m325.2/325.2 kB\u001b[0m \u001b[31m18.0 MB/s\u001b[0m eta \u001b[36m0:00:00\u001b[0m\n",
            "\u001b[?25hBuilding wheels for collected packages: wikipedia, html2text\n",
            "  Building wheel for wikipedia (setup.py) ... \u001b[?25l\u001b[?25hdone\n",
            "  Created wheel for wikipedia: filename=wikipedia-1.4.0-py3-none-any.whl size=11679 sha256=75d8828abffffefee5827dc6ceeb5460eb54a3c6d7a52a908018ea39cde2ac31\n",
            "  Stored in directory: /root/.cache/pip/wheels/5e/b6/c5/93f3dec388ae76edc830cb42901bb0232504dfc0df02fc50de\n",
            "  Building wheel for html2text (setup.py) ... \u001b[?25l\u001b[?25hdone\n",
            "  Created wheel for html2text: filename=html2text-2024.2.26-py3-none-any.whl size=33111 sha256=4c70317b9551913d62db0be4db2461a6c5ee82ecfff4273b890ff147af6f053b\n",
            "  Stored in directory: /root/.cache/pip/wheels/f3/96/6d/a7eba8f80d31cbd188a2787b81514d82fc5ae6943c44777659\n",
            "Successfully built wikipedia html2text\n",
            "Installing collected packages: striprtf, retrying, pypdf, pyaml, jiter, html2text, wikipedia, openai, llama-cloud, llama-index-legacy, llama-parse, llama-index-readers-file, llama-index-llms-openai, llama-index-indices-managed-llama-cloud, llama-index-embeddings-openai, llama-index-readers-llama-parse, llama-index-multi-modal-llms-openai, llama-index-cli, llama-index-agent-openai, llama-index-program-openai, llama-index-question-gen-openai, llama-index, llama-hub\n",
            "Successfully installed html2text-2024.2.26 jiter-0.6.1 llama-cloud-0.1.2 llama-hub-0.0.79.post1 llama-index-0.11.18 llama-index-agent-openai-0.3.4 llama-index-cli-0.3.1 llama-index-embeddings-openai-0.2.5 llama-index-indices-managed-llama-cloud-0.4.0 llama-index-legacy-0.9.48.post3 llama-index-llms-openai-0.2.14 llama-index-multi-modal-llms-openai-0.2.2 llama-index-program-openai-0.2.0 llama-index-question-gen-openai-0.2.0 llama-index-readers-file-0.2.2 llama-index-readers-llama-parse-0.3.0 llama-parse-0.5.8 openai-1.51.2 pyaml-23.12.0 pypdf-4.3.1 retrying-1.3.4 striprtf-0.0.26 wikipedia-1.4.0\n"
          ]
        }
      ],
      "source": [
        "!pip install llama-index llama-hub wikipedia"
      ]
    },
    {
      "cell_type": "markdown",
      "id": "0221e488-0d1f-4890-b081-27530fcac5f3",
      "metadata": {
        "id": "0221e488-0d1f-4890-b081-27530fcac5f3"
      },
      "source": [
        "### Setup Data\n",
        "\n",
        "We'll load some sample Wikipedia data for OpenAI, Sam, Mira, and Emmett. Why? No reason in particular :)"
      ]
    },
    {
      "cell_type": "code",
      "execution_count": null,
      "id": "3abe6c66-5107-4952-b670-e60153ff916a",
      "metadata": {
        "id": "3abe6c66-5107-4952-b670-e60153ff916a"
      },
      "outputs": [],
      "source": [
        "from llama_index.readers.wikipedia import WikipediaReader\n",
        "\n",
        "loader = WikipediaReader()\n",
        "documents = loader.load_data(\n",
        "    pages=[\"Elon Musk\",\"SpaceX\", \"Nobel Prize\"],\n",
        "    auto_suggest=False,\n",
        ")"
      ]
    },
    {
      "cell_type": "code",
      "source": [
        "documents[0]"
      ],
      "metadata": {
        "colab": {
          "base_uri": "https://localhost:8080/"
        },
        "collapsed": true,
        "id": "atXQmh6auKzS",
        "outputId": "03d3231a-f400-466c-efb4-63690cf01afb"
      },
      "id": "atXQmh6auKzS",
      "execution_count": null,
      "outputs": [
        {
          "output_type": "execute_result",
          "data": {
            "text/plain": [
              "Document(id_='909036', embedding=None, metadata={}, excluded_embed_metadata_keys=[], excluded_llm_metadata_keys=[], relationships={}, text='Elon Reeve Musk  (; born June 28, 1971) is a businessman and investor known for his key roles in the space company SpaceX and the automotive company Tesla, Inc. Other involvements include ownership of X Corp., the company that operates the social media platform X (formerly known as Twitter), and his role in the founding of the Boring Company, xAI, Neuralink, and OpenAI. He is one of the wealthiest individuals in the world; as of August 2024 Forbes estimates his net worth to be US$247 billion.\\nMusk was born in Pretoria, South Africa, to Maye (née Haldeman), a model, and Errol Musk, a businessman and engineer. Musk briefly attended the University of Pretoria before immigrating to Canada at the age of 18, acquiring citizenship through his Canadian-born mother. Two years later he matriculated at Queen\\'s University at Kingston in Canada. Musk later transferred to the University of Pennsylvania and received bachelor\\'s degrees in economics and physics. He moved to California in 1995 to attend Stanford University, but dropped out after two days and, with his brother Kimbal, co-founded the online city guide software company Zip2. The startup was acquired by Compaq for $307 million in 1999. That same year Musk co-founded X.com, a direct bank. X.com merged with Confinity in 2000 to form PayPal. In 2002 Musk acquired US citizenship. That October  eBay acquired PayPal for $1.5 billion. Using $100 million of the money he made from the sale of PayPal, Musk founded SpaceX, a spaceflight services company, in 2002. \\nIn 2004, Musk was an early investor who provided most of the initial financing in the electric-vehicle manufacturer Tesla Motors, Inc. (later Tesla, Inc.), assuming the position of the company\\'s chairman. He later became the product architect and, in 2008, the CEO. In 2006, Musk helped create SolarCity, a solar energy company that was acquired by Tesla in 2016 and became Tesla Energy. In 2013, he proposed a hyperloop high-speed vactrain transportation system. In 2015, he co-founded OpenAI, a nonprofit artificial intelligence research company. The following year Musk co-founded Neuralink, a neurotechnology company developing brain–computer interfaces, and The Boring Company, a tunnel construction company. In 2018 the U.S. Securities and Exchange Commission (SEC) sued Musk, alleging that he had falsely announced that he had secured funding for a private takeover of Tesla. To settle the case Musk stepped down as the chairman of Tesla and paid a $20 million fine. In 2022, he acquired Twitter for $44 billion, merged the company into the newly-created X Corp. and rebranded the service as X the following year. In March 2023, Musk founded xAI, an artificial-intelligence company.\\nMusk has expressed views that have made him a polarizing figure. He has been criticized for making unscientific and misleading statements, including COVID-19 misinformation, promoting right-wing conspiracy theories, and \"endorsing an antisemitic theory\"; he later apologized for the last of these. His ownership of Twitter has been controversial because of the layoffs of large numbers of employees, an increase in hate speech, misinformation and disinformation posts on the website, and changes to website features, including Twitter Blue verification.\\n\\n\\n== Early life and education ==\\n\\n\\n=== Childhood and family ===\\n\\nElon Reeve Musk was born on June 28, 1971, in Pretoria, South Africa\\'s administrative capital. He is of British and Pennsylvania Dutch ancestry. His mother, Maye (née Haldeman), is a model and dietitian born in Saskatchewan, Canada, and raised in South Africa. His father, Errol Musk, is a South African electromechanical engineer, pilot, sailor, consultant, emerald dealer, and property developer, who partly owned a rental lodge at the Timbavati Private Nature Reserve. Elon has a younger brother, Kimbal, and a younger sister, Tosca.  Elon has four paternal half-siblings.\\nThe family was wealthy during Elon\\'s youth. Despite both Musk and Errol previously stating that Errol was a part owner of a Zambian emerald mine, in 2023, Errol recounted that the deal he made was to receive \"a portion of the emeralds produced at three small mines.\" Errol was elected to the Pretoria City Council as a representative of the anti-apartheid Progressive Party and has said that his children shared their father\\'s dislike of apartheid.\\nElon\\'s maternal grandfather, Joshua N. Haldeman, was an American-born Canadian who took his family on record-breaking journeys to Africa and Australia in a single-engine Bellanca airplane;  Haldeman died when Elon was still a toddler. \\nElon has recounted trips to a wilderness school (\"veldskool\") that he described as a \"paramilitary Lord of the Flies\" where \"bullying was a virtue\" and children were encouraged to fight over rations.\\nAfter his parents divorced in 1980, Elon chose to live primarily with his father. Elon later regretted his decision and became estranged from his father. Elon attended Bryanston High School.  In one incident, after an altercation with a fellow pupil, Elon was thrown down concrete steps and beaten severely by the boy and his friends, leading to him being hospitalized for his injuries. Elon described his father berating him after he was discharged from the hospital, saying \"I had to stand for an hour as he yelled at me and called me an idiot and told me that I was just worthless\". Errol denied berating Elon but claimed \"The boy had just lost his father to suicide and Elon had called him stupid. Elon had a tendency to call people stupid. How could I possibly blame that child?\" After the incident, Elon was enrolled in private school.\\nElon was an enthusiastic reader of books, later attributing his success in part to having read The Lord of the Rings, the Foundation series, and The Hitchhiker\\'s Guide to the Galaxy. At age ten, he developed an interest in computing and video games, teaching himself how to program from the VIC-20 user manual. At age twelve, Elon sold his BASIC-based game Blastar to PC and Office Technology magazine for approximately $500.\\n\\n\\n=== Education ===\\n\\nMusk attended Waterkloof House Preparatory School, Bryanston High School, and then Pretoria Boys High School, where he graduated. Musk was a good but not exceptional student, earning a 61 in Afrikaans and a B on his senior math certification. Musk applied for a Canadian passport through his Canadian-born mother, knowing that it would be easier to immigrate to the United States this way. While waiting for his application to be processed, he attended the University of Pretoria for five months.\\nMusk arrived in Canada in June 1989, connected with a second cousin in Saskatchewan, and worked odd jobs including at a farm and a lumber mill. In 1990, he entered Queen\\'s University in Kingston, Ontario.\\nTwo years later, he transferred to the University of Pennsylvania, an Ivy League university in Philadelphia, where he earned two degrees: a Bachelor of Arts in physics, and a Bachelor of Science in economics from the university\\'s Wharton School. Although Musk has said that he earned the degrees in 1995, the University of Pennsylvania did not award them until 1997. He reportedly hosted large, ticketed house parties to help pay for tuition, and wrote a business plan for an electronic book-scanning service similar to Google Books.\\nIn 1994, Musk held two internships in Silicon Valley: one at energy storage startup Pinnacle Research Institute, which investigated electrolytic ultracapacitors for energy storage, and another at Palo Alto–based startup Rocket Science Games. In 1995, he was accepted to a graduate program in materials science at Stanford University, but did not enroll. Musk decided to join the Internet boom, applying for a job at Netscape, to which he reportedly never received a response.\\n\\n\\n== Business career ==\\nElon Musk has started a number of businesses since 1995, with initial business success and liquidity gained from sales of equity in one business providing the capital for him to start subsequent business enterprises. Musk is widely considered a serial entrepreneur. By the 2020s, several Musk businesses had formed strategic partnerships  with some employees playing roles simultaneously in more than one of Musk\\'s companies.\\n\\n\\n=== Zip2 ===\\n\\nIn 1995, Musk, his brother Kimbal, and Greg Kouri founded Global Link Information Network, later renamed to Zip2. The company developed an Internet city guide with maps, directions, and yellow pages, and marketed it to newspapers. They worked at a small rented office in Palo Alto, with Musk coding the website every night. Musk and his brother\\'s immigration statuses during this period was described by Musk as a \"gray area\". Eventually, Zip2 obtained contracts with The New York Times and the Chicago Tribune. The brothers persuaded the board of directors to abandon a merger with CitySearch; however, Musk\\'s attempts to become CEO were thwarted. Compaq acquired Zip2 for $307 million in cash in February 1999, and Musk received $22 million for his 7-percent share.\\n\\n\\n=== X.com and PayPal ===\\n\\nIn March 1999, Musk co-founded X.com, an online financial services and e-mail payment company with $12 million of the money he made from the Compaq acquisition. X.com was one of the first online banks that was federally insured, and over 200,000 customers joined in its initial months of operation.\\nMusk\\'s friends expressed skepticism about the naming of the online bank, fearing it might have been mistaken for a pornographic site. Musk brushed off their concerns, emphasizing that the name was meant to be straightforward, memorable, and easy to type. Additionally, he was fond of the email addresses derived from it, such as \"e@x.com\". Even though Musk founded the company, investors regarded him as inexperienced and replaced him with Intuit CEO Bill Harris by the end of the year.\\nIn 2000, X.com merged with the online bank Confinity to avoid competition, as the latter\\'s money-transfer service PayPal was more popular than X.com\\'s service. Musk then returned as CEO of the merged company. His preference for Microsoft- over Unix-based software caused a rift among the company\\'s employees, and eventually led Confinity co-founder Peter Thiel to resign. With the company suffering from compounding technological issues and the lack of a cohesive business model, the board ousted Musk and replaced him with Thiel in September 2000. Under Thiel, the company focused on the money-transfer service and was renamed PayPal in 2001.\\nIn 2002, PayPal was acquired by eBay for $1.5 billion in stock, of which Musk—PayPal\\'s largest shareholder with 11.7% of shares—received $176 million. In 2017, more than 15 years later, Musk purchased the X.com domain from PayPal for its \"sentimental value\". In 2022, Musk discussed a goal of creating \"X, the everything app\".\\n\\n\\n=== SpaceX ===\\n\\nIn early 2001, Musk became involved with the nonprofit Mars Society and discussed funding plans to place a growth-chamber for plants on Mars. In October of the same year, he traveled to Moscow, Russia with Jim Cantrell and Adeo Ressi to buy refurbished intercontinental ballistic missiles (ICBMs) that could send the greenhouse payloads into space. He met with the companies NPO Lavochkin and Kosmotras; however, Musk was seen as a novice and the group returned to the United States without an agreement to purchase Russian launch services. In February 2002, the group returned to Russia to look for three ICBMs. They had another meeting with Kosmotras and were offered one rocket for $8 million, which Musk rejected. He instead decided to start a company that could build affordable rockets. With $100 million of his own money, Musk founded SpaceX in May 2002 and became the company\\'s CEO and chief engineer.\\nSpaceX attempted its first launch of the Falcon 1 rocket in 2006. Though the rocket failed to reach Earth orbit, it was awarded a Commercial Orbital Transportation Services program contract from NASA. After two more failed attempts that nearly caused Musk and his companies to go bankrupt, SpaceX succeeded in launching the Falcon 1 into orbit in 2008. Later that year, SpaceX received a $1.6 billion Commercial Resupply Services contract from NASA for 12 flights of its Falcon 9 rocket and Dragon spacecraft to the International Space Station (ISS), replacing the Space Shuttle after its 2011 retirement. In 2012, the Dragon vehicle docked with the ISS, a first for a commercial spacecraft.\\n\\nWorking towards its goal of reusable rockets, in 2015 SpaceX successfully landed the first stage of a Falcon 9 on a land platform. Later landings were achieved on autonomous spaceport drone ships, an ocean-based recovery platform. In 2018, SpaceX launched the Falcon Heavy; the inaugural mission carried Musk\\'s personal Tesla Roadster as a dummy payload. Since 2019, SpaceX has been developing Starship, a fully-reusable, super-heavy-lift launch vehicle intended to replace the Falcon 9 and the Falcon Heavy. In 2020, SpaceX launched its first crewed flight, the Demo-2, becoming the first private company to place astronauts into orbit and dock a crewed spacecraft with the ISS. In 2024, NASA awarded SpaceX an $843 million contract to deorbit the ISS at the end of its lifespan.\\n\\n\\n==== Starlink ====\\n\\nIn 2015, SpaceX began development of the Starlink constellation of low-Earth-orbit satellites to provide satellite Internet access, with the first two prototype satellites launched in February 2018. A second set of test satellites, and the first large deployment of a piece of the constellation, occurred in May 2019, when the first 60 operational satellites were launched. The total cost of the decade-long project to design, build, and deploy the constellation was estimated by SpaceX in 2020 to be $10 billion. Some critics, including the International Astronomical Union, have alleged that Starlink blocks the view of the sky and poses a collision threat to spacecraft.\\nDuring the March 2022 Russian invasion of Ukraine, Musk sent Starlink terminals to Ukraine to provide Internet access and communication. In October 2022, Musk stated that about 20,000 satellite terminals had been donated to Ukraine, together with free data transfer subscriptions, which cost SpaceX $80 million. After asking the United States Department of Defense to pay for further units and future subscriptions on behalf of Ukraine, Musk publicly stated that SpaceX would continue to provide Starlink to Ukraine for free, at a yearly cost to itself of $400 million. At the same time, Musk refused to block Russian state media on Starlink, declaring himself \"a free speech absolutist\".\\nIn September 2023, Ukraine asked for the activation of Starlink satellites over Crimea to attack Russian naval vessels located at the port Sevastopol; Musk denied the request, citing concerns that Russia would respond with a nuclear attack.\\n\\n\\n=== Tesla ===\\n\\nTesla, Inc., originally Tesla Motors, was incorporated in July 2003 by Martin Eberhard and Marc Tarpenning. Both men played active roles in the company\\'s early development prior to Musk\\'s involvement. Musk led the Series A round of investment in February 2004; he invested $6.35 million, became the majority shareholder, and joined Tesla\\'s board of directors as chairman. Musk took an active role within the company and oversaw Roadster product design, but was not deeply involved in day-to-day business operations.\\nFollowing a series of escalating conflicts in 2007, and the financial crisis of 2007–2008, Eberhard was ousted from the firm. Musk assumed leadership of the company as CEO and product architect in 2008. A 2009 lawsuit settlement with Eberhard designated Musk as a Tesla co-founder, along with Tarpenning and two others. As of 2019, Musk was the longest-tenured CEO of any automotive manufacturer globally. In 2021, Musk nominally changed his title to \"Technoking\" while retaining his position as CEO.\\n\\nTesla began delivery of the Roadster, an electric sports car, in 2008. With sales of about 2,500 vehicles, it was the first serial production all-electric car to use lithium-ion battery cells. Tesla began delivery of its four-door Model S sedan in 2012. A crossover, the Model X was launched in 2015. A mass-market sedan, the Model 3, was released in 2017. In 2020, the Model 3 became the all-time bestselling plug-in electric car worldwide, and in June 2021 it became the first electric car to sell 1 million units globally. A fifth vehicle, the Model Y crossover, was launched in 2020, and in December 2023, became the best-selling vehicle of any kind, as well as the all-time best-selling electric car. The Cybertruck, an all-electric pickup truck, was unveiled in 2019, and delivered in November 2023. Under Musk, Tesla has also constructed multiple lithium-ion battery and electric vehicle factories, named Gigafactories.\\nSince its initial public offering in 2010, Tesla stock has risen significantly; it became the most valuable carmaker in summer 2020, and it entered the S&P 500 later that year. In October 2021, it reached a market capitalization of $1 trillion, the sixth company in U.S. history to do so. In November 2021, Musk proposed on Twitter to sell 10% of his Tesla stock, since \"much is made lately of unrealized gains being a means of tax avoidance\". After more than 3.5 million Twitter accounts supported the sale, Musk sold $6.9 billion of Tesla stock within a week, and a total of $16.4 billion by year end, reaching the 10% target. In February 2022, The Wall Street Journal reported that both Musk and his brother Kimbal were under investigation by the Securities and Exchange Commission (SEC) for possible insider trading related to the sale. In 2022, Musk unveiled Optimus, a robot being developed by Tesla. In June 2023, Musk met with Indian Prime Minister Narendra Modi in New York City, stating he was interested in investing in India \"as soon as humanly possible\".\\n\\n\\n==== SEC and shareholder lawsuits regarding tweets ====\\nIn 2018, Musk was sued by the SEC for a tweet stating that funding had been secured for potentially taking Tesla private. The lawsuit characterized the tweet as false, misleading, and damaging to investors, and sought to bar Musk from serving as CEO of publicly traded companies. Two days later, Musk settled with the SEC, without admitting or denying the SEC\\'s allegations. As a result, Musk and Tesla were fined $20 million each, and Musk was forced to step down for three years as Tesla chairman but was able to remain as CEO. Shareholders filed a lawsuit over the tweet, and in February 2023, a jury found Musk and Tesla not liable. Musk has stated in interviews that he does not regret posting the tweet that triggered the SEC investigation.\\nIn 2019, Musk stated in a tweet that Tesla would build half a million cars that year. The SEC reacted by asking a court to hold him in contempt for violating the terms of the 2018 settlement agreement. A joint agreement between Musk and the SEC eventually clarified the previous agreement details, including a list of topics about which Musk needed preclearance. In 2020, a judge blocked a lawsuit that claimed a tweet by Musk regarding Tesla stock price (\"too high imo\") violated the agreement. Freedom of Information Act (FOIA)-released records showed that the SEC concluded Musk had subsequently violated the agreement twice by tweeting regarding \"Tesla\\'s solar roof production volumes and its stock price\".\\n\\n\\n==== SolarCity and Tesla Energy ====\\n\\nMusk provided the initial concept and financial capital for SolarCity, which his cousins Lyndon and Peter Rive founded in 2006. By 2013, SolarCity was the second largest provider of solar power systems in the United States. In 2014, Musk promoted the idea of SolarCity building an advanced production facility in Buffalo, New York, triple the size of the largest solar plant in the United States. Construction of the factory started in 2014 and was completed in 2017. It operated as a joint venture with Panasonic until early 2020.\\nTesla acquired SolarCity for $2 billion in 2016 and merged it with its battery unit to create Tesla Energy. The deal\\'s announcement resulted in a more than 10% drop in Tesla\\'s stock price; at the time, SolarCity was facing liquidity issues. Multiple shareholder groups filed a lawsuit against Musk and Tesla\\'s directors, stating that the purchase of SolarCity was done solely to benefit Musk and came at the expense of Tesla and its shareholders. Tesla directors settled the lawsuit in January 2020, leaving Musk the sole remaining defendant. Two years later, the court ruled in Musk\\'s favor.\\n\\n\\n=== Neuralink ===\\n\\nIn 2016, Musk co-founded Neuralink, a neurotechnology startup company, with an investment of $100 million. Neuralink aims to integrate the human brain with artificial intelligence (AI) by creating devices that are embedded in the brain. Such technology could enhance memory or allow the devices to communicate with software. The company also hopes to develop devices with which to treat neurological conditions such as Alzheimer\\'s disease, dementia, and spinal cord injuries.\\nIn 2019, Musk announced work on a device akin to a sewing machine that could embed threads into a human brain. In an October 2019 paper that detailed some of Neuralink\\'s research, Musk was listed as the sole author, which rankled Neuralink researchers. At a 2020 live demonstration, Musk described one of their early devices as \"a Fitbit in your skull\" that could soon cure paralysis, deafness, blindness, and other disabilities. Many neuroscientists and publications criticized these claims, with MIT Technology Review describing them as \"highly speculative\" and \"neuroscience theater\". During the demonstration, Musk revealed a pig with a Neuralink implant that tracked neural activity related to smell. In 2022, Neuralink announced that clinical trials would begin by the end of the year.\\nNeuralink has conducted further animal testing on macaque monkeys at the University of California, Davis\\' Primate Research Center. In 2021, the company released a video in which a Macaque played the video game Pong via a Neuralink implant. The company\\'s animal trials—which have caused the deaths of some monkeys—have led to claims of animal cruelty. The Physicians Committee for Responsible Medicine has alleged that Neuralink\\'s animal trials have violated the Animal Welfare Act. Employees have complained that pressure from Musk to accelerate development has led to botched experiments and unnecessary animal deaths. In 2022, a federal probe was launched into possible animal welfare violations by Neuralink. In September 2023, the Food and Drug Administration approved Neuralink to initiate human trials, and it plans to conduct a six-year study.\\n\\n\\n=== The Boring Company ===\\n\\nIn 2017, Musk founded The Boring Company to construct tunnels, and revealed plans for specialized, underground, high-occupancy vehicles that could travel up to 150 miles per hour (240 km/h) and thus circumvent above-ground traffic in major cities. Early in 2017, the company began discussions with regulatory bodies and initiated construction of a 30-foot (9.1 m) wide, 50-foot (15 m) long, and 15-foot (4.6 m) deep \"test trench\" on the premises of SpaceX\\'s offices, as that required no permits. The Los Angeles tunnel, less than two miles (3.2 km) in length, debuted to journalists in 2018. It used Tesla Model Xs and was reported to be a rough ride while traveling at suboptimal speeds.\\nTwo tunnel projects announced in 2018, in Chicago and West Los Angeles, have been canceled. However, a tunnel beneath the Las Vegas Convention Center was completed in early 2021. Local officials have approved further expansions of the tunnel system. \\n\\n\\n=== Twitter / X ===\\n\\nMusk expressed interest in buying Twitter as early as 2017, and had questioned the platform\\'s commitment to freedom of speech. Additionally, his ex-wife Talulah Riley had urged him to buy Twitter to stop the \"woke-ism\". In January 2022, Musk started purchasing Twitter shares, reaching a 9.2% stake by April, making him the largest shareholder. When this was publicly disclosed, Twitter shares experienced the largest intraday price surge since the company\\'s 2013 initial public offering. On April 4, Musk agreed to a deal that would appoint him to Twitter\\'s board of directors and prohibit him from acquiring more than 14.9% of the company. However, on April 13, Musk made a $43 billion offer to buy Twitter, launching a takeover bid to buy 100% of Twitter\\'s stock at $54.20 per share. In response, Twitter\\'s board adopted a \"poison pill\" shareholder rights plan to make it more expensive for any single investor to own more than 15% of the company without board approval. Nevertheless, by the end of the month Musk had successfully concluded his bid for approximately $44 billion. This included about $12.5 billion in loans against his Tesla stock and $21 billion in equity financing.\\nTesla\\'s stock market value sank by over $100 billion the next day in reaction to the deal. He subsequently tweeted to his 86 million followers criticism of Twitter executive Vijaya Gadde\\'s policies, which led to some of them engaging in sexist and racist harassment against her. Exactly a month after announcing the takeover, Musk stated that the deal was \"on hold\" following a report that 5% of Twitter\\'s daily active users were spam accounts. Although he initially affirmed his commitment to the acquisition, he sent notification of his termination of the deal in July; Twitter\\'s Board of Directors responded that they were committed to holding him to the transaction. On July 12, 2022, Twitter formally sued Musk in the Chancery Court of Delaware for breaching a legally binding agreement to purchase Twitter. In October 2022, Musk reversed again, offering to purchase Twitter at $54.20 per share. The acquisition was officially completed on October 27.\\nImmediately after the acquisition, Musk fired several top Twitter executives including CEO Parag Agrawal; Musk became the CEO instead. He instituted a $7.99 monthly subscription for a \"blue check\", and laid off a significant portion of the company\\'s staff. Musk lessened content moderation, including reinstating accounts like The Babylon Bee. The Southern Poverty Law Center noted that Twitter has verified numerous extremists; hate speech also increased on the platform after his takeover.\\nIn December 2022, Musk released internal documents relating to Twitter\\'s moderation of Hunter Biden\\'s laptop controversy in the leadup to the 2020 presidential election. Comments on these internal documents by journalists Matt Taibbi, Bari Weiss, Michael Shellenberger and others were posted on Twitter as the Twitter Files. Musk and many Republicans alleged the documents showed the FBI had engaged in government censorship by ordering Twitter to suppress a New York Post story about the laptop. Upon review of the documents, Taibbi said he had found no evidence to support the allegation, and Twitter attorneys denied the allegation in a subsequent court filing. The United States House Committee on the Judiciary held hearings on the Twitter Files on March 9, 2023, at which Taibbi and Shellenberger gave testimony.\\nIn late 2022, Musk promised to step down as CEO after a Twitter poll posted by Musk found that a majority of users wanted him to do so. Five months later, Musk stepped down from CEO and placed former NBCUniversal executive Linda Yaccarino in the position and transitioned his role to executive chairman and chief technology officer.\\nOn November 20, 2023, in a U.S. District Court in Texas, X filed a lawsuit stating that Media Matters \"manipulated\" the X platform, in that it used accounts that followed major brands, and \"resorted to endlessly scrolling and refreshing\" the feed until it found ads next to extremist posts.\\nThe Wall Street Journal reported in August 2024 that the $13 billion Musk borrowed to buy Twitter \"is now considered the worst deal in merger finance that banks have participated in since the 2008 to \\'09 financial crisis\", adding that \"the allure of banking Elon Musk, providing capital for him to buy a company, not only would reward them handsomely if things went according to plan\" but \"you can certainly say things have not gone according to plan.\" The Washington Post reported in September 2024 that the company had lost $24 billion in equity value, \"a vaporization of wealth that has little parallel outside the realm of economic or industry-specific crashes, or devastating corporate scandals.\" Two years after the acquisition, Fidelity Investments estimated the value of its stake in X that implied the company had lost 79% of its value.\\n\\n\\n=== Leadership style ===\\n\\nMusk is often described as a micromanager and has called himself a \"nano-manager\". The New York Times has characterized his approach as absolutist. Musk does not make formal business plans. He has forced employees to adopt the company\\'s own jargon and launched ambitious, risky, and costly projects against his advisors\\' recommendations, such as removing front-facing radar from Tesla Autopilot. His insistence on vertical integration causes his companies to move most production in-house. While this resulted in saved costs for SpaceX\\'s rocket, vertical integration (as of 2018) has caused many usability problems for Tesla\\'s internal corporate software.\\nMusk\\'s handling of employees—whom he communicates with directly through mass emails—has been characterized as \"carrot and stick\", rewarding those \"who offer constructive criticism\" while also being known to impulsively threaten, swear at, and fire his employees. Musk said he expects his employees to work for long hours, sometimes 80 hours per week. He has his new employees sign strict non-disclosure agreements and often fires in sprees, such as during the Model 3 \"production hell\" in 2018. In 2022, Musk revealed plans to fire 10 percent of Tesla\\'s workforce, due to his concerns about the economy. That same month, he suspended remote work at SpaceX and Tesla and threatened to fire employees who do not work 40 hours per week in the office. He laid off more than 10 percent of the Tesla workforce in early 2024.\\nMusk\\'s leadership has been praised by some, who credit it with the success of Tesla and his other endeavors, and criticized by others, who see him as callous and his managerial decisions as \"show[ing] a lack of human understanding.\" The 2021 book Power Play contains anecdotes of Musk berating employees. The Wall Street Journal reported that, after Musk insisted on branding his vehicles as \"self-driving\", he faced criticism from his engineers for putting customer \"lives at risk\", with some employees resigning in consequence.\\n\\n\\n== Other activities ==\\n\\n\\n=== Musk Foundation ===\\nMusk is president of the Musk Foundation he founded in 2001, whose stated purpose is to: provide solar-power energy systems in disaster areas; support research, development, and advocacy (for interests including human space exploration, pediatrics, renewable energy and \"safe artificial intelligence\"); and support science and engineering educational efforts. \\nAs of 2020, the foundation has made 350 donations. Around half of them were made to scientific research or education nonprofits. Notable beneficiaries include the Wikimedia Foundation, his alma mater the University of Pennsylvania, and his brother Kimbal\\'s nonprofit Big Green. From 2002 to 2018, the foundation gave $25 million directly to nonprofit organizations, nearly half of which went to Musk\\'s OpenAI, which was a nonprofit at the time. The Foundation also allocated $100 million of donations to be used to establish a new higher education university in Texas. \\nIn 2012, Musk took the Giving Pledge, thereby committing to give the majority of his wealth to charitable causes either during his lifetime or in his will. He has endowed prizes at the X Prize Foundation, including $100 million to reward improved carbon capture technology. \\nVox said in February 2021, \"the Musk Foundation is almost entertaining in its simplicity and yet is strikingly opaque\", noting that its website was only 33 words in plain-text. In 2020, Forbes gave Musk a philanthropy score of 1, because he had given away less than 1% of his net worth. In November 2021, Musk donated $5.7 billion of Tesla\\'s shares to charity, according to regulatory filings. However, Bloomberg News noted that all of it went to his own foundation, bringing Musk Foundation\\'s assets up to $9.4 billion at the end of 2021. The foundation disbursed $160 million to nonprofits that year. Reporting by The New York Times found that in 2022, the Musk Foundation gave away $230 million less than the minimum required by law to maintain tax-deductible status, and that in 2021 and 2022 over half the foundation\\'s funds went to causes connected to Musk, his family, or his businesses.\\n\\n\\n=== Hyperloop ===\\n\\nIn August 2013, Musk announced plans for a version of a vacuum tube train and assigned a dozen engineers from SpaceX and Tesla to establish the conceptual foundations and create initial designs. Later that year, Musk unveiled the concept, which he dubbed the Hyperloop. The alpha design for the system was published in a whitepaper posted to the Tesla and SpaceX blogs. The document scoped out the technology and outlined a notional route where such a transport system could be built between the Greater Los Angeles Area and the San Francisco Bay Area, at an estimated cost of $6 billion. The proposal, if technologically feasible at the costs cited, would make Hyperloop travel cheaper than any other mode of transport for such long distances. Biographer Ashlee Vance noted that Musk hoped Hyperloop would \"make the public and legislators rethink the high-speed train\" proposal current in California at the time and consider more \"creative\" ideas.\\nIn 2015, Musk announced a design competition for students and others to build Hyperloop pods, to operate on a SpaceX-sponsored mile-long track, for a 2015–2017 Hyperloop pod competition. The track was used in January 2017, and Musk also announced that the company had started a tunnel project, with Hawthorne Municipal Airport as its destination. In July 2017, Musk said that he had received \"verbal government approval\" to build a Hyperloop from New York City to Washington, D.C., with stops in Philadelphia and Baltimore. Mention of the projected DC-to-Baltimore leg was removed from The Boring Company website in 2021. The tunnel project to Hawthorne was discontinued in 2022 and is planned to be converted into parking spots for SpaceX workers.\\nMobility experts have criticized the Hyperloop concept for potential safety issues, planning complexity, low passenger capacity, and extremely high costs. Jose Gomez-Ibanez, a professor of urban planning and public policy at Harvard, said \"It gives me pause to think that otherwise intelligent people are buying into this kind of utopian vision\".\\n\\n\\n=== OpenAI and xAI ===\\n\\nIn December 2015, Musk co-founded OpenAI, a not-for-profit artificial intelligence (AI) research company aiming to develop artificial general intelligence intended to be safe and beneficial to humanity. A particular focus of the company was to democratize artificial superintelligence systems, against governments and corporations. Musk pledged $1 billion of funding to OpenAI. In 2023, Musk tweeted that he had ended up giving a total of $100 million to OpenAI. TechCrunch later reported that, according to its own investigation of public records, \"only $15 million\" of OpenAI\\'s funding could be definitively traced to Musk. Musk subsequently stated that he had donated about $50 million.\\nIn 2018, Musk left the OpenAI board to avoid possible future conflicts with his role as CEO of Tesla as Tesla increasingly became involved in AI through Tesla Autopilot. Since then, OpenAI has made significant advances in machine learning, producing neural networks such as ChatGPT (producing human-like text), and DALL-E (generating digital images from natural language descriptions).\\nOn July 12, 2023, Elon Musk launched an artificial intelligence company called xAI, which aims to develop a generative AI program that competes with existing offerings like ChatGPT. The company hired engineers from Google and OpenAI. Musk obtained funding from investors in SpaceX and Tesla.\\n\\n\\n=== Tham Luang cave rescue and defamation case ===\\n\\nIn July 2018, Musk arranged for his employees to build a mini-submarine to assist the rescue of children trapped in a flooded cavern in Thailand. Richard Stanton, leader of the international rescue diving team, encouraged Musk to facilitate the construction of the vehicle as a backup in case flooding worsened. However, Stanton later concluded that the mini-submarine would not work and said that Musk\\'s involvement \"distracted from the rescue effort\". Engineers at SpaceX and The Boring Company built the mini-submarine from a Falcon 9 liquid oxygen transfer tube in eight hours and personally delivered it to Thailand. Thai authorities ultimately declined to use the submarine, stating that it wasn\\'t practical for the rescue mission. In March 2019, Musk was one of the 187 people who received various honors conferred by the King of Thailand for involvement in the rescue effort.\\nSoon after the rescue, Vernon Unsworth, a British recreational caver who had been exploring the cave for the previous six years and played a key advisory role in the operation, criticized the submarine on CNN as amounting to nothing more than a public relations effort with no chance of success, maintaining that Musk \"had no conception of what the cave passage was like\" and \"can stick his submarine where it hurts\". Musk asserted on Twitter that the device would have worked and referred to Unsworth as a \"pedo guy\". He then deleted the tweets, apologized, and deleted his responses to critical tweets from Cher Scarlett, a software engineer, which had caused his followers to harass her. In an email to BuzzFeed News, Musk later called Unsworth a \"child rapist\" and said that he had married a child.\\nIn September, Unsworth filed a defamation suit seeking $190 million in damages. In his defense, Musk argued that \"\\'pedo guy\\' was a common insult used in South Africa when I was growing up ... synonymous with \\'creepy old man\\' and is used to insult a person\\'s appearance and demeanor\". During the trial Musk apologized to Unsworth again for the tweet. In December 2019, the jury found in favor of Musk and ruled he was not liable.\\n\\n\\n=== 2018 cannabis incident ===\\nIn September 2018, Musk was interviewed on The Joe Rogan Experience podcast, during which he appeared to smoke a joint. In 2022, Musk said that he and other SpaceX employees had subsequently been required to undergo random drug tests for about a year following the incident, as required by the Drug-Free Workplace Act of 1988 for Federal contractors. In a 2019 60 Minutes interview, Musk had said, \"I do not smoke pot. As anybody who watched that podcast could tell, I have no idea how to smoke pot.\"\\n\\n\\n=== Music ===\\nIn March 2019, Musk, through his own label Emo G Records, released a rap track, \"RIP Harambe\", on SoundCloud. The track refers to the killing of Harambe the gorilla and the subsequent Internet sensationalism surrounding the event. The following year, Musk released an EDM track, \"Don\\'t Doubt Ur Vibe\", featuring his own lyrics and vocals. While Guardian critic Alexi Petridis described it as \"indistinguishable... from umpteen competent but unthrilling bits of bedroom electronica posted elsewhere on SoundCloud\", TechCrunch said it was \"not a bad representation of the genre\".\\n\\n\\n=== Private jet ===\\n\\nMusk uses a private jet owned by Falcon Landing LLC, a SpaceX-linked company, and acquired a second jet in August 2020. His heavy use of the jets—which flew over 150,000 miles in 2018 alone—and the consequent fossil fuel usage has received criticism.\\nMusk\\'s flight usage is tracked on social media through ElonJet. After Musk said that his son X AE A-XII had been harassed by a stalker after the account posted the airport at which his jet had landed, Musk banned the ElonJet account on Twitter, as well as the accounts of journalists that posted stories regarding the incident, including Donie O\\'Sullivan, Keith Olbermann, and journalists from The New York Times, The Washington Post, CNN, and The Intercept. Musk equated the reporting to doxxing. Police do not believe there is a link between the account and alleged stalker. Musk later took a Twitter poll on whether the journalists\\' accounts should be reinstated, which resulted in reinstating the accounts.\\n\\n\\n=== Company towns ===\\n\\nAfter 2020, thousands of acres of land just outside Austin, Texas, were acquired by Musk and his companies with a total value of $2.5 billion. The project to build the company town named Snailbrook in Bastrop County, Texas began in 2021 according to reports by the Wall Street Journal. Musk\\'s then-girlfriend Grimes and Kanye West were involved in the planning. The name \"Snailbrook\" alludes to The Boring Company\\'s stated goal of building a machine that can bore tunnels faster than a snail can move. In 2023 the town had a reported population of 12 people. There are plans to establish a school and a university there.\\n\\n\\n== Wealth ==\\n\\nMusk made $175.8 million when PayPal was sold to eBay in October 2002. He was first listed on the Forbes Billionaires List in 2012, with a net worth of $2 billion.\\n\\n\\n== Personal views and Twitter usage ==\\n\\nMusk credits science fiction writers, particularly Robert A. Heinlein, for inspiring many of his personal views and business ventures, including SpaceX, Grok, and his libertarian inclinations. Since joining Twitter (now known as X) in 2009, Musk has been an active user and has over 163 million followers as of November 2023. He posts memes, promotes business interests, and comments on contemporary political and cultural issues. Musk\\'s statements have provoked controversy, such as for mocking preferred gender pronouns and comparing Canadian Prime Minister Justin Trudeau to Adolf Hitler. \\nThe New York Times describes his contributions to international relations as \"chaotic\", and critics of Musk argue that there is a lack of separation between his opinions and his business interests. As CEO of Twitter, Musk emerged as a source of misinformation and right-wing conspiracy theories, for example by suggesting online details about mass murderer Mauricio Garcia\\'s apparent interest in Nazism could have been planted as part of a psyop. Allegations of him being transphobic appeared as well in response to actions taken by Twitter under his guidance.\\n\\n\\n=== Finance ===\\nMusk said that the U.S. government should not provide subsidies to companies, but impose a carbon tax to reduce greenhouse gas emissions. The free market, in his view, would achieve the best solution, and producing environmentally unfriendly vehicles should have consequences. \\nTesla has received billions of dollars in subsidies. As of February 2024, Tesla has made $9 billion from government-initiated systems of zero-emissions credits. Tax credits offered in California, at the United States federal level, and by other governments have enabled Tesla\\'s battery electric vehicles to be price-competitive in comparison with internal combustion engine vehicles and facilitated initial consumer adoption of Tesla vehicles. \\nMusk, a longtime opponent of short-selling, has repeatedly criticized the practice and argued it should be illegal. Wired magazine speculated that Musk\\'s opposition to short-selling stems from how short sellers have an incentive to find and promote unfavorable information about his companies. In early 2021, he encouraged the GameStop short squeeze.\\nIn December 2022, Musk sold $3.6 billion of his stock in Tesla, equal to 22 million shares in the company, despite pledging earlier in the year that he would not sell any additional shares.\\n\\n\\n=== Technology ===\\nMusk has promoted cryptocurrencies and supports them over traditional government-issued fiat currencies. Given the influence of Musk\\'s tweets in moving cryptocurrency markets, his statements about cryptocurrencies have been viewed as market manipulation by some, such as economist Nouriel Roubini. Musk\\'s social media praising of Bitcoin and Dogecoin was credited for increasing their prices. Consequently, Tesla\\'s 2021 announcement, against the backdrop of Musk\\'s social media behavior, that it bought $1.5 billion worth of Bitcoin, raised questions. Tesla\\'s announcement that it would accept Bitcoin for payment was criticized by environmentalists and investors, due to the environmental impact of cryptocurrency mining. A few months later, in response to the criticism, Musk announced on Twitter that Tesla would no longer accept payments in Bitcoin and would not engage in any Bitcoin transactions until the environmental issues are solved.\\nDespite The Boring Company\\'s involvement in building mass transit infrastructure, Musk has criticized public transport and promoted individualized transport (private vehicles). His comments have been called \"elitist\" and have sparked widespread criticism from both transportation and urban planning experts, who have pointed out that public transportation in dense urban areas is more economical, more energy efficient, and requires much less space than private cars.\\n\\n\\n=== Existential threats ===\\n\\nMusk has been described as believing in longtermism, emphasizing the needs of future populations. Accordingly, Musk has stated that artificial intelligence poses the greatest existential threat to humanity. He has warned of a \"Terminator-like\" AI apocalypse and suggested that the government should regulate its safe development. In 2015, Musk was a cosignatory, along with Stephen Hawking and hundreds of others, of the Open Letter on Artificial Intelligence, which called for the ban of autonomous weapons. Musk\\'s AI stances have been called alarmist and sensationalist by critics such as computer scientist Yann LeCun and Meta CEO Mark Zuckerberg, and led the think tank Information Technology and Innovation Foundation to award Musk its Annual Luddite Award in 2016.\\nMusk has described climate change as the greatest threat to humanity after AI, and has advocated for a carbon tax. Musk was a critic of President Donald Trump\\'s stance on climate change, and resigned from two presidential business advisory councils following Trump\\'s 2017 decision to withdraw the United States from the Paris Agreement.\\nMusk has long promoted the colonization of Mars and argues that humanity should become a \"multiplanetary species\". He has suggested the use of nuclear weapons to terraform Mars. He envisioned establishing a direct democracy on Mars, with a system in which more votes would be required to create laws than remove them. Musk has also voiced concerns about human population decline, saying that \"Mars has zero human population. We need a lot of people to become a multiplanet civilization.\" Speaking at The Wall Street Journal\\'s CEO Council session in 2021, Musk claimed that the supposedly declining birth rate, and consequent population decline, is one of the biggest risks to human civilization. According to anonymous sources inside SpaceX speaking with The New York Times, Musk has repeatedly volunteered his sperm to help colonize Mars. He later denied the claim.\\n\\n\\n=== Politics ===\\n\\nMusk\\'s views are generally described as right-wing and conservative. While previously considered relatively apolitical and moderate, he has since shifted to the right and become more vocal about his views, notably since acquiring Twitter in 2022. He is an outlier among social media executives who typically avoid partisan political advocacy. Musk has shared far-right misinformation and numerous conspiracy theories. Despite this, Musk still describes himself as politically moderate, rejecting the conservative label.\\nMusk was a registered independent voter when he lived in California. Historically, he has donated to both Democrats and Republicans, many of whom are in states in which he has a vested interest; however, beginning in the late 2010s, his political contributions have shifted almost entirely to supporting Republicans.\\nMusk voted for Hillary Clinton in the 2016 U.S. presidential election. In the 2020 Democratic Party presidential primaries, Musk endorsed candidate Andrew Yang and expressed support for his proposed universal basic income. He also endorsed Kanye West\\'s 2020 presidential campaign. He said he voted for Joe Biden in the 2020 U.S. presidential election. In May 2022, Musk said that he could \"no longer support\" the Democrats because they are the \"party of division & hate\", and wrote a tweet encouraging \"independent-minded voters\" to vote Republican in the 2022 U.S. elections. That fall he gave over $50 million to Citizens for Sanity, a conservative political action committee that ran advertisements about transgender care and illegal immigration in swing states. He has supported Republican Ron DeSantis for the 2024 U.S. presidential election, giving $10 million to the campaign in 2023, and hosted DeSantis\\'s campaign announcement on a Twitter Spaces event. In August 2023, Musk suggested Republican presidential candidate Vivek Ramaswamy should be the vice presidential candidate on the Republican ticket. \\nIn July 2024, Bloomberg reported that Musk donated an unknown sum to the pro-Donald Trump America PAC, a super PAC; in a later interview, Musk clarified that he created America PAC. After the attempted assassination of Donald Trump, Musk wished Trump a speedy recovery and endorsed him for president. In a July 2024 post on X, Musk shared a deepfake video of Vice President Kamala Harris, Trump\\'s opponent in the 2024 presidential election, which appeared to show Harris saying she was the \"ultimate diversity hire\" and did not know how to manage the United States. Musk wrote that the video was \"amazing\" and did not reveal that it was edited, despite X prohibiting \"synthetic, manipulated\" content \"that may deceive\". In August 2024, Musk and Trump spoke for over two hours on a livestream on X, in which Musk suggested that Trump create a government efficiency commission which he offered to serve on. Trump said he would \"love\" to have Musk involved and later said he needed Musk\\'s help to eliminate the Department of Education. In October 2024, Musk joined Trump on stage at a campaign rally. \\nMusk opposes a \"billionaire tax\", and has argued on Twitter with more left-leaning Democratic politicians such as Bernie Sanders, Alexandria Ocasio-Cortez, and Elizabeth Warren. He has raised questions about the Black Lives Matter protests, partially based on the fact that the phrase \"Hands up, don\\'t shoot\" was made up. Musk promoted a baseless theory relating to the attack of Speaker Nancy Pelosi\\'s husband, but Musk deleted his tweet. He also used X to spread disinformation and \"election conspiracy theories\" about the Federal Emergency Management Agency\\'s relief efforts for Hurricane Helene.\\nMusk has praised China and has been described as having a close relationship with the Chinese government, allowing access to its markets for Tesla. After Gigafactory Shanghai produced its first batch of vehicles, Musk thanked the Chinese government and Chinese people while criticizing the United States and its people.:\\u200a207–208\\u200a In 2022, Musk wrote an article for China Cyberspace, the official publication of Cyberspace Administration of China, which enforces Internet censorship in China. His writing the article was described as conflicting with his advocacy for free speech. Musk later advocated for Taiwan to become a \"special administrative zone\" of China which drew cross-party criticism from Taiwanese lawmakers.\\nIn October 2022, Musk posted a Twitter poll and \"peace plan\" to resolve the Russian invasion of Ukraine by allowing Russia to keep the Crimea Peninsula, while Ukraine would adopt a neutral status and drop the bid to join NATO. It was reported that Musk allegedly spoke with Russian President Vladimir Putin prior to the proposal, which Musk denied. Musk has repeatedly expressed concern that a protracted war between Russia and Ukraine could lead to the use of nuclear weapons and the outbreak of World War III.\\n\\nIn a YouTube podcast interview on November 10, 2023, Musk criticized Israel\\'s retaliatory actions in the Gaza Strip during the Israel–Hamas war, saying that Hamas \"wanted to commit the worst atrocities that they could in order to provoke the most aggressive response possible from Israel.\" He added that \"if you kill somebody\\'s child in Gaza, you have made at least a few Hamas members who will die just to kill an Israeli.\" On November 17, 2023, Musk announced a policy change on the X platform, stating that X users who use terms such as \"decolonization\" and \"from the river to the sea,\" or similar expressions that \"necessarily imply genocide\" of the Jewish people in Israel, will be suspended. Several weeks later, Musk traveled to Israel by visiting the kibbutz Kfar Aza with Israeli Prime Minister Benjamin Netanyahu, which had been part of the aftermath of the 2023 Hamas-led attack on Israel, and described it as \"jarring.\"\\nIn August 2024, Musk criticized UK Prime Minister Keir Starmer amid the riots taking place in that country, saying \"Shouldn’t you be concerned about attacks on *all* communities?\" Responding to a tweet with footage of the disorder that said the riots were due to the \"effects of mass migration and open borders\", Musk tweeted, \"Civil war is inevitable\". His comments were condemned by Starmer\\'s official spokesman. Musk had previously restored far-right UK activist Tommy Robinson\\'s account (after Robinson had been banned under Twitter\\'s previous owners) and interacted with him on the platform. Musk went on to refer to Starmer as \"two-tier Keir\" and ask, \"Why aren\\'t all communities protected in Britain?\" Musk promoted a conspiracy theory that the UK government was planning to build detainments camps in the Falkland Islands to hold rioters.\\nOn September 15, 2024, after the second assassination attempt on Donald Trump, Musk wrote on X that it was odd that nobody had tried to kill Biden or Kamala Harris. He then deleted the post following widespread condemnation. On September 19, the United States Secret Service announced that the agency was probing the post.\\n\\n\\n=== Accusations of antisemitism ===\\nThe Israeli government and several media outlets accused Musk of sowing antisemitism due to his promotion of George Soros conspiracy theories, although some Israeli officials defended Musk and denied that his criticism of Soros constituted antisemitism.\\nOn November 15, 2023, Twitter user Charles Weber, who identifies as a Jewish conservative, posted a video from StopJewishHate.org condemning the phrase \"Hitler was right\"; Weber captioned the video: \"To the cowards hiding behind the anonymity of the internet and posting \\'Hitler was right\\': You got something you want to say? Why don\\'t you say it to our faces\". In response, a second user posted \"Okay. Jewish communities have been pushing the exact kind of dialectical hatred against whites that they claim to want people to stop using against them. I\\'m deeply disinterested in giving the tiniest shit now about western Jewish populations coming to the disturbing realization that those hordes of minorities that support flooding their country don\\'t exactly like them too much. You want truth said to your face, there it is.\" To this second user, Musk replied \"You have said the actual truth.\" Musk further clarified that he doesn\\'t believe that \"all Jewish communities\" hate white people, but specifically took aim at the Anti-Defamation League (ADL). He added, \"You  [sic] right that this does not extend to all Jewish communities, but it is also not just limited to ADL\".\\nThe first tweet was widely regarded as echoing white nationalist sentiments and affirmed another antisemitic conspiracy theory that Jews push \"hatred against Whites.\" The following day, Musk made a tweet which critics regarded as supporting white pride. Advertisers distanced themselves from his tweets. \\nAt the DealBook Summit on November 29, 2023, after comments from Disney CEO Bob Iger explaining his decision to stop advertising on X after Musk\\'s recent post, journalist Andrew Ross Sorkin questioned Musk about the withdrawal of advertisers. Musk responded, \"I hope they stop. Don\\'t advertise\" and \"If somebody is going to try to blackmail me with advertising, blackmail me with money, go fuck yourself. Go fuck yourself. Is that clear? I hope it is.\"; Musk singled out Iger, saying \"Hey Bob, if you\\'re in the audience.\" Musk acknowledged to Sorkin that one of his tweets—the one affirming an antisemitic conspiracy theory—was a mistake, saying \"I handed a loaded gun to those who hate me and to those who are antisemitic and for that I am quite sorry.\" Musk described his tweet as \"one of the most foolish, if not the most foolish, thing I\\'ve done.\"\\nIn January 2024, Musk visited the Auschwitz concentration camp with European Jewish Association Chairman Rabbi, conservative political commentator Ben Shapiro and Holocaust survivor Gidon Lev. He also spoke on a conference about rising antisemitism. The New York Times described the trip as a part of an image \"rehabilitation tour.\"\\n\\n\\n=== COVID-19 ===\\n\\nMusk was criticized for his public comments and conduct related to the COVID-19 pandemic. He spread misinformation about the virus, including promoting a widely discredited paper on the benefits of chloroquine and claiming that COVID-19 death statistics were inflated.\\nIn March 2020, Musk stated, \"The coronavirus panic is dumb.\" In an email to Tesla employees, Musk referred to COVID-19 as a \"specific form of the common cold\" and predicted that confirmed COVID-19 cases would not exceed 0.1% of the U.S. population. On March 19, 2020, Musk predicted that there would be \"probably close to zero new cases in [the U.S.] by end of April\". Politico labeled this statement one of \"the most audacious, confident, and spectacularly incorrect prognostications [of 2020]\". Musk also falsely stated that children \"are essentially immune\" to COVID-19.\\nMusk condemned COVID-19 lockdowns and initially refused to close the Tesla Fremont Factory in March 2020, defying the local shelter-in-place order. In May 2020, he reopened the Tesla factory, defying the local stay-at-home order, and warned workers that they would be unpaid, and their unemployment benefits might be jeopardized, if they did not report to work. In December 2022, Musk called for prosecution of former National Institute of Allergy and Infectious Diseases director Anthony Fauci.\\nIn March 2020, Musk promised that Tesla would make ventilators for COVID-19 patients if there were a shortage. After figures like New York City mayor Bill de Blasio responded to Musk\\'s offer, Musk offered to donate ventilators which Tesla would build or buy from a third party. However, Musk ended up buying and donating BiPAP and CPAP machines, which are devices that support respirations of someone able to breathe on their own, rather than the much more expensive and sought-after mechanical ventilator machines that are able to breathe for a patient entirely.\\nIn September 2020, Musk stated that he would not get the COVID-19 vaccine, because he and his children were \"not at risk for COVID\". Two months later, Musk contracted COVID-19 but suggested his COVID-19 rapid antigen test results were dubious, as he had been tested four times on the same device with the same nurse but had received equal numbers of positive and negative results. Following this, a postdoctoral fellow at the Princess Margaret Cancer Centre in Toronto explained in a Tweet why this result does not undermine the value of the test, referring to Musk as \"Space Karen\", which then trended on Twitter. In December 2021, Musk said that he and his eligible children had received the vaccine, saying that the science behind the COVID vaccines was \"unequivocal\" but expressing his opposition to COVID vaccine mandates.\\n\\n\\n== Personal life ==\\nIn 2002, Musk became a U.S. citizen. From the early 2000s until late 2020, Musk resided in California, where both Tesla and SpaceX were founded. He then relocated to Austin, Texas, saying that California had become \"complacent\" about its economic success. While hosting Saturday Night Live in 2021, Musk stated that he has Asperger syndrome, although he has never been medically diagnosed. \\nDuring a South African safari in late 2000, he contracted malaria and was then hospitalized in an intensive care unit back in California.\\nMusk trained in Brazilian jiu-jitsu while preparing for a proposed fight with Mark Zuckerberg. In his leisure time, he plays video games including Quake, Diablo IV, Elden Ring, and Polytopia. Musk has stated he uses prescribed ketamine for occasional depression, while The Wall Street Journal has repeatedly alleged he uses it and other drugs recreationally.\\n\\n\\n=== Relationships and children ===\\nMusk has at least 12 children, one of whom is deceased. He met his first wife, Canadian author Justine Wilson, while attending Queen\\'s University in Ontario, Canada; they married in 2000. In 2002, their first child died of sudden infant death syndrome at the age of 10 weeks. After his death, the couple used in vitro fertilization (IVF) to continue their family; they had twins in 2004 followed by triplets in 2006. The couple divorced in 2008 and shared custody of their children.\\nIn 2022, the elder twin officially changed her name to Vivian Jenna Wilson, reflecting her gender identity as a trans woman and using her mother\\'s surname because she no longer wished to be associated with Musk. Musk blamed the estrangement of his daughter on what the Financial Times characterized as \"the supposed takeover of elite schools and universities by neo-Marxists\", and has said that her gender transition is primarily what sparked his drive to \"destroy the woke mind virus\". In a July 2024 episode of Jordan Peterson\\'s podcast, Musk said regarding Vivian that he had \"lost [his] son  [sic], essentially\" because of gender-affirming care. He commented: \"You know, they call it deadnaming for a reason. The reason it\\'s called deadnaming is because your son  [sic] is dead\", and went on to state that the eldest twin \"is dead, killed by the woke mind virus\". Vivian responded publicly, criticizing Musk for lying about her and the circumstances of her transition; claiming that Musk was \"cold\", \"quick to anger\", \"uncaring and narcissistic”, whose infrequent visits commonly involved him berating her for being feminine.\\nIn 2008, Musk began dating English actress Talulah Riley. They married two years later at Dornoch Cathedral in Scotland. In 2012, the couple divorced, before remarrying the following year. After briefly filing for divorce in 2014, Musk finalized a second divorce from Riley in 2016. Musk then dated Amber Heard for several months in 2017; he had reportedly been pursuing her since 2012.\\nIn 2018, Musk and Canadian musician Grimes said that they were dating. Grimes gave birth to their son in May 2020.  Musk and Grimes originally gave the baby the name \"X Æ A-12\", which would have violated California regulations as it contained characters that are not in the modern English alphabet, which they then changed to \"“X Æ A-Xii”. They have received criticism for choosing such an impractical and difficult to pronounce name.\\nIn December 2021, Grimes and Musk had a second child, a daughter born via surrogacy. Despite the pregnancy, Musk confirmed reports that the couple were \"semi-separated\" in September 2021; in an interview with Time in December 2021, he said he was single. In March 2022, Grimes said of her relationship with Musk: \"I would probably refer to him as my boyfriend, but we\\'re very fluid.\" Later that month, Grimes tweeted that she and Musk had broken up again. In September 2023 it was reported that the pair had a third child, a son. In October 2023, Grimes sued Musk over parental rights and custody of their eldest son.\\nIn July 2022, Insider published court documents revealing that Musk had had twins via IVF with Shivon Zilis, director of operations and special projects at Neuralink, in November 2021. They were born weeks before Musk and Grimes had their second child via surrogate in December. The news \"raise[d] questions about workplace ethics\", given that Zilis directly reported to Musk. Their third child together was born in early 2024 via surrogacy. Also in July 2022, The Wall Street Journal reported that Musk allegedly had an affair with Nicole Shanahan, the wife of Google co-founder Sergey Brin, in 2021, leading to their divorce the following year. Musk denied the report. Musk also had a relationship with Australian actress Natasha Bassett, who has been described as \"an occasional girlfriend.\"\\n\\n\\n=== Legal matters after 2020 ===\\n\\nIn May 2022, Business Insider cited an anonymous friend of an unnamed SpaceX contract flight attendant, alleging that Musk engaged in sexual misconduct in 2016. The source stated that in November 2018, Musk, SpaceX, and the former flight attendant entered into a severance agreement granting the attendant a $250,000 payment in exchange for a promise not to sue over the claims. Musk responded, \"If I were inclined to engage in sexual harassment, this is unlikely to be the first time in my entire 30-year career that it comes to light\". He accused the article from Business Insider of being a \"politically motivated hit piece\". After the release of the article, Tesla\\'s stock fell by more than 6%, and Barron\\'s wrote \"...some investors considered key-man risk – the danger that a company could be badly hurt by the loss of one individual.\"\\nIn April 2023, the government of the U.S. Virgin Islands sought to subpoena Musk for documents in a lawsuit alleging that JPMorgan Chase profited from Jeffrey Epstein\\'s sex trafficking operation. The efforts to subpoena Musk for documents do not implicate him in any wrongdoing and do not seek to have Musk testify under oath.\\nMusk\\'s former girlfriend Grimes filed a parental relationship petition in late September 2023 as part of a custody dispute. The petition came a month after Grimes openly accused him in a social media post of blocking her access to the youngest of their three children. On July 27, 2024, Grimes\\' mother accused Musk of withholding the passports of her grandchildren.\\nBen Brody, a 22-year-old Los Angeles-based college graduate, initiated a defamation lawsuit in October 2023 against Musk for over $1 million. He alleged Musk had falsely identified him as a participant \"in a violent street brawl on behalf of a neo-Nazi extremist group\" near Portland, Oregon. According to Brody\\'s complaint, one of Musk\\'s X posts promoted conspiracy theories that \"Ben Brody\\'s alleged participation in the extremist brawl meant the incident was probably a \\'false flag\\' operation to deceive the American public\". The complaint also alleged that Musk\\'s accusations led to Brody and his family being subjected to harassment and threats. In February 2024, Musk was ordered to testify in a deposition for the lawsuit. In the deposition, Musk denied knowing who was suing him and admitted to doing no research on whether his claims were true. Musk attempted to keep the deposition from being made public.\\nIn October 2023, the U.S. Securities and Exchange Commission (SEC) sued Musk over his refusal to testify a third time in an investigation into whether he violated federal law by purchasing Twitter stock in 2022. Musk claimed the SEC was harassing him. In February 2024, Judge Laurel Beeler ruled that Musk must testify again. \\nIn January 2024, Delaware Judge Kathaleen McCormick ruled in a 2018 lawsuit that Musk\\'s $55 billion pay package from Tesla be rescinded. McCormick called the compensation granted by the company\\'s board \"an unfathomable sum\" that was unfair to shareholders. In response to the ruling, Musk posted on X: \"Never incorporate your company in the state of Delaware.\" A re-ratification shareholders\\' vote passed in mid-June 2024, though much follow-up litigation is expected, including a lawsuit filed by a Tesla investor beforehand that alleged Musk employed \"coercive tactics\" to move the vote in his favor.\\nIn June 2024, The Wall Street Journal reported Musk had a \"romantic relationship\" with a former intern at SpaceX, confirmed with affidavits supplied by the intern\\'s lawyers who also represent Musk, and alleged that he had sexual relations with a woman who directly reported to him there. The article further alleges he also pursued sex with other SpaceX employees, and repeatedly asked an employee who reported directly to him to \"have his babies.\" In the same month, eight ex-employees, the same eight who were previously fired for penning an anti-Musk letter at SpaceX, filed a lawsuit against Musk alleging sexual harassment. \\nAlso in June 2024, a former Twitter executive sued Musk for \"cheating\" him and other ousted executives out of $200 million in severance pay.\\nIn August 2024, Musk sued advertisers for a boycott of X (formerly Twitter). Later that month, Olympic boxer Imane Khelif filed a lawsuit for cyber harassment against X over alleged “acts of aggravated cyber harassment\", in which Musk was named.\\n\\n\\n== Public perception ==\\n\\nThough his ventures have been highly influential within their separate industries up to current day, Musk only became a public figure in the early 2010s. He has been described as an eccentric who makes spontaneous and impactful decisions, while also often making controversial statements, contrary to other billionaires who prefer reclusiveness to protect their businesses. Biographer Ashley Vance described people\\'s opinions of Musk as polarized due to his \"part philosopher, part troll\" role on Twitter.\\nMusk was a partial inspiration for the characterization of Tony Stark in the Marvel film Iron Man (2008). Musk also had a cameo appearance in the film\\'s 2010 sequel, Iron Man 2. Musk has made cameos and appearances in other films such as Machete Kills (2013), Why Him? (2016), and Men in Black: International (2019). Television series in which he has appeared include The Simpsons (\"The Musk Who Fell to Earth\", 2015), The Big Bang Theory (\"The Platonic Permutation\", 2015), South Park (\"Members Only\", 2016), Young Sheldon (\"A Patch, a Modem, and a Zantac®\", 2017), Rick and Morty (\"One Crew over the Crewcoo\\'s Morty\", 2019), and Saturday Night Live (2021). He contributed interviews to the documentaries Racing Extinction (2015) and the Werner Herzog-directed Lo and Behold (2016).\\nAwards for his contributions to the development of the Falcon rockets include the American Institute of Aeronautics and Astronautics George Low Transportation Award in 2008, the Fédération Aéronautique Internationale Gold Space Medal in 2010, and the Royal Aeronautical Society Gold Medal in 2012. In 2015, he received an honorary doctorate in engineering and technology from Yale University and an Institute of Electrical and Electronics Engineers Honorary Membership. Musk was elected a Fellow of the Royal Society (FRS) in 2018. In February 2022, Musk was elected to the National Academy of Engineering.\\nTime has listed Musk as one of the most influential people in the world on four occasions: in 2010, 2013, 2018, and 2021. Musk was selected as Time\\'s \"Person of the Year\" for 2021. Then Time editor-in-chief Edward Felsenthal wrote that \"Person of the Year is a marker of influence, and few individuals have had more influence than Musk on life on Earth, and potentially life off Earth too\".\\n\\n\\n== Notes and references ==\\n\\n\\n=== Notes ===\\n\\n\\n=== Citations ===\\n\\n\\n== Works cited ==\\n\\n\\n== Further reading ==\\nTarnoff, Ben, \"Ultra Hardcore\" (subscription required) (review of Walter Isaacson, Elon Musk, Simon and Schuster, 2023, 670 pp.), The New York Review of Books, vol. LXXI, no. 1 (January 18, 2024), pp. 6, 8, 10. \"There is an anti-modern impulse to Musk, a craving for lordship that can\\'t be entirely satisfied within the confines of a capitalist economy. A king doesn\\'t have advertisers or shareholders or customers, and Musk, if he continues on his current trajectory, may very well be abandoned by all three. Aristotle says a good ending should be surprising but inevitable. It\\'s possible to imagine multiple finales for Musk that meet these criteria, but the story always begins the same way. Once upon a time in Pretoria, there was a boy who wanted to be a man.\" (p. 10.)\\n\\n\\n== External links ==\\n\\nAppearances on C-SPAN', mimetype='text/plain', start_char_idx=None, end_char_idx=None, text_template='{metadata_str}\\n\\n{content}', metadata_template='{key}: {value}', metadata_seperator='\\n')"
            ]
          },
          "metadata": {},
          "execution_count": 7
        }
      ]
    },
    {
      "cell_type": "code",
      "source": [
        "documents[2]"
      ],
      "metadata": {
        "colab": {
          "base_uri": "https://localhost:8080/"
        },
        "collapsed": true,
        "id": "hiSBjAiDuvUY",
        "outputId": "5d36a5ca-1e36-4dbb-d837-a41805e318e1"
      },
      "id": "hiSBjAiDuvUY",
      "execution_count": null,
      "outputs": [
        {
          "output_type": "execute_result",
          "data": {
            "text/plain": [
              "Document(id_='21201', embedding=None, metadata={}, excluded_embed_metadata_keys=[], excluded_llm_metadata_keys=[], relationships={}, text='The Nobel Prizes ( noh-BEL; Swedish: Nobelpriset [nʊˈbɛ̂lːˌpriːsɛt]; Norwegian: Nobelprisen Norwegian: [nʊˈbɛ̀lːˌpriːsn̩] ) are five separate prizes awarded to those who, during the preceding year, have conferred the greatest benefit to humankind, as established by the 1895 will of Swedish chemist, engineer, and industrialist Alfred Nobel, in the year before he died. Prizes were first awarded in 1901 by the Nobel Foundation. Nobel\\'s will indicated that the awards should be granted in the fields of Physics, Chemistry, Physiology or Medicine, Literature, and Peace. A sixth prize for Economic Sciences, endowed by Sweden\\'s central bank, Sveriges Riksbank, and first presented in 1969, is also frequently included, as it is also administered by the Nobel Foundation. The Nobel Prizes are widely regarded as the most prestigious awards available in their respective fields.\\nThe prize ceremonies take place annually. Each recipient, known as a laureate, receives a green gold medal plated with 24 karat gold, a diploma, and a monetary award. As of 2023, the Nobel Prize monetary award is 11,000,000 kr, amounting to approximately US$1,035,000. A prize may not be shared among more than three individuals, although the Nobel Peace Prize can be awarded to organisations of more than three people. Nobel Prizes are not awarded posthumously, but if a person is awarded a prize and dies before receiving it, the prize is presented.\\nThe Nobel Prizes, beginning in 1901, and the Nobel Memorial Prize in Economic Sciences, beginning in 1969, have been awarded 609 times to 975 people and 25 organisations. Five individuals and two organisations have received more than one Nobel Prize.\\n\\n\\n== History ==\\n\\nAlfred Nobel was born on 21 October 1833 in Stockholm, Sweden, into a family of engineers. He was a chemist, engineer, and inventor. In 1894, Nobel purchased the Bofors iron and steel mill, which he made into a major armaments manufacturer. Nobel also invented ballistite. This invention was a precursor to many smokeless military explosives, especially the British smokeless powder cordite. As a consequence of his patent claims, Nobel was eventually involved in a patent infringement lawsuit over cordite. Nobel amassed a fortune during his lifetime, with most of his wealth coming from his 355 inventions, of which dynamite is the most famous.\\nThere is a popular story about how, in 1888, Nobel was astonished to read his own obituary, titled \"The Merchant of Death Is Dead\", in a French newspaper. It was Alfred\\'s brother Ludvig who had died; the obituary was eight years premature. The article disconcerted Nobel and made him apprehensive about how he would be remembered. This inspired him to change his will. Historians have been unable to verify this story and some dismiss the story as a myth. On 10 December 1896, Alfred Nobel died in his villa in San Remo, Italy, from a cerebral haemorrhage. He was 63 years old.\\nNobel wrote several wills during his lifetime. He composed the last over a year before he died, signing it at the Swedish–Norwegian Club in Paris on 27 November 1895. To widespread astonishment, Nobel\\'s last will specified that his fortune be used to create a series of prizes for those who confer the \"greatest benefit on mankind\" in physics, chemistry, physiology or medicine, literature, and peace. Nobel bequeathed 94% of his total assets, 31 million SEK (c. US$186 million, €150 million in 2008), to establish the five Nobel Prizes. Owing to skepticism surrounding the will, it was not approved by the Storting in Norway until 26 April 1897. The executors of the will, Ragnar Sohlman and Rudolf Lilljequist, formed the Nobel Foundation to take care of the fortune and to organise the awarding of prizes.\\nNobel\\'s instructions named a Norwegian Nobel Committee to award the Peace Prize, the members of which were appointed shortly after the will was approved in April 1897. Soon thereafter, the other prize-awarding organisations were designated. These were Karolinska Institute on 7 June, the Swedish Academy on 9 June, and the Royal Swedish Academy of Sciences on 11 June. The Nobel Foundation reached an agreement on guidelines for how the prizes should be awarded; and, in 1900, the Nobel Foundation\\'s newly created statutes were promulgated by King Oscar II.\\n\\n\\n=== Nobel Foundation ===\\n\\n\\n==== Formation of Foundation ====\\n\\nAccording to his will and testament read in Stockholm on 30 December 1896, a foundation established by Alfred Nobel would reward those who serve humanity. The Nobel Prize was funded by Alfred Nobel\\'s personal fortune. According to the official sources, Alfred Nobel bequeathed most of his fortune to the Nobel Foundation that now forms the economic base of the Nobel Prize.\\nThe Nobel Foundation was founded as a private organisation on 29 June 1900. Its function is to manage the finances and administration of the Nobel Prizes. In accordance with Nobel\\'s will, the primary task of the foundation is to manage the fortune Nobel left. Robert and Ludvig Nobel were involved in the oil business in Azerbaijan, and according to Swedish historian E. Bargengren, who accessed the Nobel family archive, it was this \"decision to allow withdrawal of Alfred\\'s money from Baku that became the decisive factor that enabled the Nobel Prizes to be established\". Another important task of the Nobel Foundation is to market the prizes internationally and to oversee informal administration related to the prizes. The foundation is not involved in the process of selecting the Nobel laureates. In many ways, the Nobel Foundation is similar to an investment company, in that it invests Nobel\\'s money to create a solid funding base for the prizes and the administrative activities. The Nobel Foundation is exempt from all taxes in Sweden (since 1946) and from investment taxes in the United States (since 1953). Since the 1980s, the foundation\\'s investments have become more profitable and as of 31 December 2007, the assets controlled by the Nobel Foundation amounted to 3.628 billion Swedish kronor (c. US$560 million).\\nAccording to the statutes, the foundation consists of a board of five Swedish or Norwegian citizens, with its seat in Stockholm. The chairman of the board is appointed by the Swedish King in Council, with the other four members appointed by the trustees of the prize-awarding institutions. An Executive director is chosen from among the board members, a deputy director is appointed by the King in Council, and two deputies are appointed by the trustees. However, since 1995, all the members of the board have been chosen by the trustees, and the executive director and the deputy director appointed by the board itself. As well as the board, the Nobel Foundation is made up of the prize-awarding institutions (the Royal Swedish Academy of Sciences, the Nobel Assembly at Karolinska Institute, the Swedish Academy, and the Norwegian Nobel Committee), the trustees of these institutions, and auditors.\\n\\n\\n==== Foundation capital and cost ====\\nThe capital of the Nobel Foundation today is invested 50% in shares, 20% bonds and 30% other investments (e.g. hedge funds or real estate). The distribution can vary by 10 percent. At the beginning of 2008, 64% of the funds were invested mainly in American and European stocks, 20% in bonds, plus 12% in real estate and hedge funds.\\nIn 2011, the total annual cost was approximately 120 million kronor, with 50 million kronor as the prize money. Further costs to pay institutions and persons engaged in giving the prizes were 27.4 million kronor. The events during the Nobel week in Stockholm and Oslo cost 20.2 million kronor. The administration, Nobel symposium, and similar items had costs of 22.4 million kronor. The cost of the Economic Sciences prize of 16.5 Million kronor is paid by the Sveriges Riksbank.\\n\\n\\n=== Inaugural Nobel prizes ===\\n\\nOnce the Nobel Foundation and its guidelines were in place, the Nobel Committees began collecting nominations for the inaugural prizes. Subsequently, they sent a list of preliminary candidates to the prize-awarding institutions.\\nThe Nobel Committee\\'s Physics Prize shortlist cited Wilhelm Röntgen\\'s discovery of X-rays and Philipp Lenard\\'s work on cathode rays. The Academy of Sciences selected Röntgen for the prize. In the last decades of the 19th century, many chemists had made significant contributions. Thus, with the Chemistry Prize, the academy \"was chiefly faced with merely deciding the order in which these scientists should be awarded the prize\". The academy received 20 nominations, eleven of them for Jacobus van \\'t Hoff. Van \\'t Hoff was awarded the prize for his contributions in chemical thermodynamics.\\nThe Swedish Academy chose the poet Sully Prudhomme for the first Nobel Prize in Literature. A group including 42 Swedish writers, artists, and literary critics protested against this decision, having expected Leo Tolstoy to be awarded. Some, including Burton Feldman, have criticised this prize because they consider Prudhomme a mediocre poet. Feldman\\'s explanation is that most of the academy members preferred Victorian literature and thus selected a Victorian poet. The first Physiology or Medicine Prize went to the German physiologist and microbiologist Emil von Behring. During the 1890s, von Behring developed an antitoxin to treat diphtheria, which until then had been causing thousands of deaths each year.\\nThe first Nobel Peace Prize went to the Swiss Jean Henri Dunant for his role in founding the International Red Cross Movement and initiating the Geneva Convention, and jointly given to French pacifist Frédéric Passy, founder of the Peace League and active with Dunant in the Alliance for Order and Civilization.\\n\\n\\n=== Second World War ===\\nIn 1938 and 1939, Adolf Hitler\\'s Third Reich forbade three laureates from Germany (Richard Kuhn, Adolf Friedrich Johann Butenandt, and Gerhard Domagk) from accepting their prizes. They were all later able to receive the diploma and medal. Even though Sweden was officially neutral during the Second World War, the prizes were awarded irregularly. In 1939, the Peace Prize was not awarded. No prize was awarded in any category from 1940 to 1942, due to the occupation of Norway by Germany. In the subsequent year, all prizes were awarded except those for literature and peace.\\nDuring the occupation of Norway, three members of the Norwegian Nobel Committee fled into exile. The remaining members escaped persecution from the Germans when the Nobel Foundation stated that the committee building in Oslo was Swedish property. Thus it was a safe haven from the German military, which was not at war with Sweden. These members kept the work of the committee going, but did not award any prizes. In 1944, the Nobel Foundation, together with the three members in exile, made sure that nominations were submitted for the Peace Prize and that the prize could be awarded once again.\\n\\n\\n=== Prize in Economic Sciences ===\\n\\nIn 1968, Sweden\\'s central bank Sveriges Riksbank celebrated its 300th anniversary by donating a large sum of money to the Nobel Foundation to be used to set up a prize in honour of Alfred Nobel. The following year, the Sveriges Riksbank Prize in Economic Sciences in Memory of Alfred Nobel was awarded for the first time. The Royal Swedish Academy of Sciences became responsible for selecting laureates. The first laureates for the Economics Prize were Jan Tinbergen and Ragnar Frisch \"for having developed and applied dynamic models for the analysis of economic processes\". The board of the Nobel Foundation decided that after this addition, it would allow no further new prizes.\\n\\n\\n== Award process ==\\nThe award process is similar for all of the Nobel Prizes, the main difference being who can make nominations for each of them.\\n\\n\\n=== Nominations ===\\nNomination forms are sent by the Nobel Committee to about 3,000 individuals, usually in September the year before the prizes are awarded. These individuals are generally prominent academics working in a relevant area. Regarding the Peace Prize, inquiries are also sent to governments, former Peace Prize laureates, and current or former members of the Norwegian Nobel Committee. The deadline for the return of the nomination forms is 31 January of the year of the award. The Nobel Committee nominates about 300 potential laureates from these forms and additional names. The nominees are not publicly named, nor are they told that they are being considered for the prize. All nomination records for a prize are sealed for 50 years from the awarding of the prize.\\n\\n\\n=== Selection ===\\nThe Nobel Committee then prepares a report reflecting the advice of experts in the relevant fields. This, along with the list of preliminary candidates, is submitted to the prize-awarding institutions. There are four awarding institutions for the six prizes awarded:\\n\\nRoyal Swedish Academy of Sciences – Chemistry; Physics; Economics\\nNobel Assembly at the Karolinska Institute – Physiology / Medicine\\nSwedish Academy – Literature\\nNorwegian Nobel Committee – Peace\\nThe institutions meet to choose the laureate or laureates in each field by a majority vote. Their decision, which cannot be appealed, is announced immediately after the vote. A maximum of three laureates and two different works may be selected per award. Except for the Peace Prize, which can be awarded to institutions, the awards can only be given to individuals. The winners are announced by the awarding institutions during the first two weeks of October.\\n\\n\\n=== Posthumous nominations ===\\nAlthough posthumous nominations are not presently permitted, individuals who died in the months between their nomination and the decision of the prize committee were originally eligible to receive the prize. This has occurred twice: the 1931 Literature Prize awarded to Erik Axel Karlfeldt, and the 1961 Peace Prize awarded to UN Secretary General Dag Hammarskjöld. Since 1974, laureates must be thought alive at the time of the October announcement. There has been one laureate, William Vickrey, who in 1996 died after the prize (in Economics) was announced but before it could be presented. On 3 October 2011, the laureates for the Nobel Prize in Physiology or Medicine were announced; however, the committee was not aware that one of the laureates, Ralph M. Steinman, had died three days earlier. The committee was debating about Steinman\\'s prize, since the rule is that the prize is not awarded posthumously. The committee later decided that as the decision to award Steinman the prize \"was made in good faith\", it would remain unchanged, and the prize would be awarded.\\n\\n\\n=== Recognition time lag ===\\nNobel\\'s will provided for prizes to be awarded in recognition of discoveries made \"during the preceding year\". Early on, the awards usually recognised recent discoveries. However, some of those early discoveries were later discredited. For example, Johannes Fibiger was awarded the 1926 Prize in Physiology or Medicine for his purported discovery of a parasite that caused cancer. To avoid repeating this embarrassment, the awards increasingly recognised scientific discoveries that had withstood the test of time. According to Ralf Pettersson, former chairman of the Nobel Prize Committee for Physiology or Medicine, \"the criterion \\'the previous year\\' is interpreted by the Nobel Assembly as the year when the full impact of the discovery has become evident.\"\\n\\nThe interval between the award and the accomplishment it recognises varies from discipline to discipline. The Literature Prize is typically awarded to recognise a cumulative lifetime body of work rather than a single achievement. The Peace Prize can also be awarded for a lifetime body of work. For example, 2008 laureate Martti Ahtisaari was awarded for his work to resolve international conflicts. However, they can also be awarded for specific recent events. For instance, Kofi Annan was awarded the 2001 Peace Prize just four years after becoming the Secretary-General of the United Nations. Similarly Yasser Arafat, Yitzhak Rabin, and Shimon Peres received the 1994 award, about a year after they successfully concluded the Oslo Accords. A controversy was caused by awarding the 2009 Nobel Peace Prize to Barack Obama during his first year as US president.\\nAwards for physics, chemistry, and medicine are typically awarded once the achievement has been widely accepted. Sometimes, this takes decades – for example, Subrahmanyan Chandrasekhar shared the 1983 Physics Prize for his 1930s work on stellar structure and evolution. Not all scientists live long enough for their work to be recognised. Some discoveries can never be considered for a prize if their impact is realised after the discoverers have died.\\n\\n\\n== Award ceremonies ==\\n\\nExcept for the Peace Prize, the Nobel Prizes are presented in Stockholm, Sweden, at the annual Prize Award Ceremony on 10 December, the anniversary of Nobel\\'s death. The recipients\\' lectures are normally held in the days prior to the award ceremony. The Peace Prize and its recipients\\' lectures are presented at the annual Prize Award Ceremony in Oslo, Norway, usually on 10 December. The award ceremonies and the associated banquets are typically major international events. The Prizes awarded in Sweden\\'s ceremonies are held at the Stockholm Concert Hall, with the Nobel banquet following immediately at Stockholm City Hall. The Nobel Peace Prize ceremony has been held at the Norwegian Nobel Institute (1905–1946), at the auditorium of the University of Oslo (1947–1989), and at Oslo City Hall (1990–present).\\nThe highlight of the Nobel Prize Award Ceremony in Stockholm occurs when each Nobel laureate steps forward to receive the prize from the hands of the King of Sweden. In Oslo, the chairman of the Norwegian Nobel Committee presents the Nobel Peace Prize in the presence of the King of Norway and the Norwegian royal family. At first, King Oscar II did not approve of awarding grand prizes to foreigners.\\n\\n\\n=== Nobel Banquet ===\\n\\nAfter the award ceremony in Sweden, a banquet is held in the Blue Hall at the Stockholm City Hall, which is attended by the Swedish Royal Family and around 1,300 guests. The Nobel Peace Prize banquet is held in Norway at the Oslo Grand Hotel after the award ceremony. Apart from the laureate, guests include the president of the Storting, on occasion the Swedish prime minister, and, since 2006, the King and Queen of Norway. In total, about 250 guests attend.\\n\\n\\n=== Nobel lecture ===\\nAccording to the statutes of the Nobel Foundation, each laureate is required to give a public lecture on a subject related to the topic of their prize. The Nobel lecture as a rhetorical genre took decades to reach its current format. These lectures normally occur during Nobel Week (the week leading up to the award ceremony and banquet, which begins with the laureates arriving in Stockholm and normally ends with the Nobel banquet), but this is not mandatory. The laureate is only obliged to give the lecture within six months of receiving the prize, but some have happened even later. For example, US President Theodore Roosevelt received the Peace Prize in 1906 but gave his lecture in 1910, after his term in office. The lectures are organised by the same association which selected the laureates.\\n\\nMilitary cemeteries in every corner of the world are silent testimony to the failure of national leaders to sanctify human life.\\n— Yitzhak Rabin, 1994 Nobel Peace Prize lecture\\n\\n\\n== Prizes ==\\n\\n\\n=== Medals ===\\n\\nThe Nobel Foundation announced on 30 May 2012 that it had awarded the contract for the production of the five (Swedish) Nobel Prize medals to Svenska Medalj AB. Between 1902 and 2010, the Nobel Prize medals were minted by Myntverket (the Swedish Mint), Sweden\\'s oldest company, which ceased operations in 2011 after 107 years. In 2011, the Mint of Norway, located in Kongsberg, made the medals. The Nobel Prize medals are registered trademarks of the Nobel Foundation.\\nEach medal features an image of Alfred Nobel in left profile on the obverse. The medals for physics, chemistry, physiology or medicine, and literature have identical obverses, showing the image of Alfred Nobel and the years of his birth and death. Nobel\\'s portrait also appears on the obverse of the Peace Prize medal and the medal for the Economics Prize, but with a slightly different design. For instance, the laureate\\'s name is engraved on the rim of the Economics medal. The image on the reverse of a medal varies according to the institution awarding the prize. The reverse sides of the medals for chemistry and physics share the same design.\\nAll medals made before 1980 were struck in 23 carat gold. Since then, they have been struck in 18 carat green gold plated with 24 carat gold. The weight of each medal varies with the value of gold, but averages about 175 grams (0.386 lb) for each medal. The diameter is 66 millimetres (2.6 in) and the thickness varies between 5.2 millimetres (0.20 in) and 2.4 millimetres (0.094 in). Because of the high value of their gold content and tendency to be on public display, Nobel medals are subject to medal theft. During World War II, the medals of German scientists Max von Laue and James Franck were sent to Copenhagen for safekeeping. When Germany invaded Denmark, Hungarian chemist (and Nobel laureate himself) George de Hevesy dissolved them in aqua regia (nitro-hydrochloric acid), to prevent confiscation by Nazi Germany and to prevent legal problems for the holders. After the war, the gold was recovered from solution, and the medals re-cast.\\n\\n\\n=== Diplomas ===\\nNobel laureates receive a diploma directly from the hands of the King of Sweden, or in the case of the peace prize, the chairman of the Norwegian Nobel Committee. Each diploma is uniquely designed by the prize-awarding institutions for the laureates that receive them. The diploma contains a picture and text in Swedish which states the name of the laureate and normally a citation of why they received the prize. None of the Nobel Peace Prize laureates has ever had a citation on their diplomas.\\n\\n\\n=== Award money ===\\nThe laureates are given a sum of money when they receive their prizes, in the form of a document confirming the amount awarded. The amount of prize money depends upon how much money the Nobel Foundation can award each year. The purse has increased since the 1980s, when the prize money was 880,000 SEK per prize (c. 2.6 million SEK altogether, US$350,000 today). In 2009, the monetary award was 10 million SEK (US$1.4 million). In June 2012, it was lowered to 8 million SEK. If two laureates share the prize in a category, the award grant is divided equally between the recipients. If there are three, the awarding committee has the option of dividing the grant equally, or awarding one-half to one recipient and one-quarter to each of the others. It is common for recipients to donate prize money to benefit scientific, cultural, or humanitarian causes.\\n\\n\\n== Statistics ==\\nYoungest person to receive a Nobel Prize:\\nMalala Yousafzai; at the age of 17, received Nobel Peace Prize (2014).\\nOldest person to receive a Nobel Prize:\\nJohn B. Goodenough; at the age of 97, received Nobel Prize in Chemistry (2019).\\nOnly person to receive more than one unshared Nobel Prize:\\nLinus Pauling; received the prize twice. Nobel Prize in Chemistry (1954) and Nobel Peace Prize (1962).\\nCountry with most Nobel laureates:\\n\\nUnited States; 403 Nobel laureates, as of 2022.\\nLaureates who have received multiple Nobel Prizes: (by date of second Prize)\\nMarie Curie; received the prize twice. Nobel Prize in Physics (1903) and Nobel Prize in Chemistry (1911).\\nInternational Committee of the Red Cross; received the prize thrice. Nobel Peace Prize (1917, 1944, 1963).\\nLinus Pauling; received the prize twice. Nobel Prize in Chemistry (1954) and Nobel Peace Prize (1962).\\nJohn Bardeen; received the prize twice. Nobel Prize in Physics (1956, 1972).\\nFrederick Sanger; received the prize twice. Nobel Prize in Chemistry (1958, 1980).\\nUnited Nations High Commissioner for Refugees; received the prize twice. Nobel Peace Prize (1954, 1981).\\nKarl Barry Sharpless; received the prize twice. Nobel Prize in Chemistry (2001, 2022).\\nPosthumous Nobel Prizes laureates:\\nErik Axel Karlfeldt; received Nobel Prize in Literature (1931).\\nDag Hammarskjöld; received Nobel Peace Prize (1961).\\nRalph M. Steinman; received Nobel Prize in Physiology or Medicine (2011).\\nMarried couples to receive Nobel Prizes:\\n\\nMarie Curie, Pierre Curie (along with Henri Becquerel). Received Nobel Prize in Physics (1903).\\nIrène Joliot-Curie, Frédéric Joliot. Received Nobel Prize in Chemistry (1935).\\nGerty Cori, Carl Cori. Received Nobel Prize in Medicine (1947).\\nGunnar Myrdal received Nobel Memorial Prize in Economics Sciences (1974), Alva Myrdal received Nobel Peace Prize (1982).\\nMay-Britt Moser, Edvard I. Moser. Received Nobel Prize in Medicine (2014).\\nEsther Duflo, Abhijit Banerjee (along with Michael Kremer). Received Nobel Memorial Prize in Economics Sciences (2019).\\nYears without prizes:\\nPhysics: 1916, 1931, 1934, 1940, 1941, 1942\\nChemistry: 1916, 1917, 1919, 1924, 1933, 1940, 1941, 1942\\nPhysiology or Medicine: 1915, 1916, 1917, 1918, 1921, 1925, 1940, 1941, 1942\\nLiterature: 1914, 1918, 1935, 1940, 1941, 1942, 1943\\nPeace: 1914, 1915, 1916, 1918, 1923, 1924, 1928, 1932, 1939, 1940, 1941, 1942, 1943, 1948, 1955, 1956, 1966, 1967, 1972\\n\\n\\n== Specially distinguished laureates ==\\n\\n\\n=== Multiple laureates ===\\n\\nFive people have received two Nobel Prizes. Marie Curie received the Physics Prize in 1903 for her work on radioactivity and the Chemistry Prize in 1911 for the isolation of pure radium, making her the only person to be awarded a Nobel Prize in two different sciences. Linus Pauling was awarded the 1954 Chemistry Prize for his research into the chemical bond and its application to the structure of complex substances. Pauling was also awarded the Peace Prize in 1962 for his activism against nuclear weapons, making him the only laureate of two unshared prizes. John Bardeen received the Physics Prize twice: in 1956 for the invention of the transistor and in 1972 for the theory of superconductivity. Frederick Sanger received the prize twice in Chemistry: in 1958 for determining the structure of the insulin molecule and in 1980 for inventing a method of determining base sequences in DNA. Karl Barry Sharpless was awarded the 2001 Chemistry Prize for his research into chirally catalysed oxidation reactions, and the 2022 Chemistry Prize for click chemistry.\\nTwo organisations have received the Peace Prize multiple times. The International Committee of the Red Cross received it three times: in 1917 and 1944 for its work during the world wars; and in 1963 during the year of its centenary. The United Nations High Commissioner for Refugees has been awarded the Peace Prize twice for assisting refugees: in 1954 and 1981.\\n\\n\\n=== Family laureates ===\\nThe Curie family has received the most prizes, with four prizes awarded to five individual laureates. Marie Curie received the prizes in Physics (in 1903) and Chemistry (in 1911). Her husband, Pierre Curie, shared the 1903 Physics prize with her. Their daughter, Irène Joliot-Curie, received the Chemistry Prize in 1935 together with her husband Frédéric Joliot-Curie. In addition, the husband of Marie Curie\\'s second daughter, Henry Labouisse, was the director of UNICEF when he accepted the Nobel Peace Prize in 1965 on that organisation\\'s behalf.\\nAlthough no family matches the Curie family\\'s record, there have been several with two laureates. The Nobel Prize in Physiology or Medicine was awarded to the husband-and-wife team of Gerty Cori and Carl Ferdinand Cori in 1947, and to the husband-and-wife team of May-Britt Moser and Edvard Moser in 2014 (along with John O\\'Keefe). The Physics Prize in 1906 was won by J. J. Thomson for showing that electrons are particles, and in 1937 by his son, George Paget Thomson, for showing that they also have the properties of waves. William Henry Bragg and his son, William Lawrence Bragg, shared the Physics Prize in 1915 for inventing X-ray crystallography. Niels Bohr was awarded the Physics Prize in 1922, as was his son, Aage Bohr, in 1975. The Physics Prize was awarded to Manne Siegbahn in 1924, followed by his son, Kai Siegbahn, in 1981. Hans von Euler-Chelpin, who received the Chemistry Prize in 1929, was the father of Ulf von Euler, who was awarded the Physiology or Medicine Prize in 1970. C. V. Raman was awarded the Physics Prize in 1930 and was the uncle of Subrahmanyan Chandrasekhar, who was awarded the same prize in 1983. Arthur Kornberg received the Physiology or Medicine Prize in 1959; Kornberg\\'s son Roger later received the Chemistry Prize in 2006. Arthur Schawlow received the 1981 Physics prize, and was married to the sister of 1964 Physics laureate Charles Townes. Two members of the Hodgkin family received Nobels in consecutive years: Sir Alan Lloyd Hodgkin shared in the Nobel for Physiology or Medicine in 1963, followed by Dorothy Crowfoot Hodgkin, the wife of his first cousin, who won solo for Chemistry in 1964. Jan Tinbergen, who was awarded the first Economics Prize in 1969, was the brother of Nikolaas Tinbergen, who received the 1973 Physiology or Medicine Prize. Gunnar Myrdal, who was awarded the Economics Prize in 1974, was the husband of Alva Myrdal, Peace Prize laureate in 1982. Economics laureates Paul Samuelson (1970) and Kenneth Arrow (1972; shared) were brothers-in-law. Frits Zernike, who was awarded the 1953 Physics Prize, was the great-uncle of 1999 Physics laureate Gerard \\'t Hooft. In 2019, married couple Abhijit Banerjee and Esther Duflo were awarded the Economics Prize. Christiane Nüsslein-Volhard was awarded the Prize in Physiology or Medicine in 1995, and her nephew Benjamin List received the Chemistry Prize in 2021. Sune Bergström was awarded the Prize in Physiology or Medicine in 1982, and his son Svante Pääbo was awarded the same prize in 2022. Edwin McMillan, who shared the Prize in Chemistry in 1951, was the uncle of John Clauser, who was awarded the Prize in Physics in 2022.\\n\\n\\n== Reception and controversies ==\\n\\n\\n=== Controversial recipients ===\\n\\nAmong other criticisms, the Nobel Committees have been accused of having a political agenda, and of omitting more deserving candidates. They have also been accused of Eurocentrism, especially for the Literature Prize.\\n\\nPeace Prize\\nAmong the most criticised Nobel Peace Prizes was the one awarded to Henry Kissinger and Lê Đức Thọ. This led to the resignation of two Norwegian Nobel Committee members. Kissinger and Thọ were awarded the prize for negotiating a ceasefire between North Vietnam and the United States in January 1973 during the Vietnam War. However, when the award was announced, both sides were still engaging in hostilities. Critics sympathetic to the North announced that Kissinger was not a peace-maker but the opposite, responsible for widening the war. Those hostile to the North and what they considered its deceptive practices during negotiations were deprived of a chance to criticise Lê Đức Thọ, as he declined the award. The satirist and musician Tom Lehrer has remarked that \"political satire became obsolete when Henry Kissinger was awarded the Nobel Peace Prize.\"\\nYasser Arafat, Shimon Peres, and Yitzhak Rabin received the Peace Prize in 1994 for their efforts in making peace between Israel and Palestine. Immediately after the award was announced, one of the five Norwegian Nobel Committee members denounced Arafat as a terrorist and resigned. Additional misgivings about Arafat were widely expressed in various newspapers.\\nAnother controversial Peace Prize was that awarded to Barack Obama in 2009. Nominations had closed only eleven days after Obama took office as President of the United States, but the actual evaluation occurred over the next eight months. Obama himself stated that he did not feel deserving of the award, or worthy of the company in which it would place him. Past Peace Prize laureates were divided, some saying that Obama deserved the award, and others saying he had not secured the achievements to yet merit such an accolade. Obama\\'s award, along with the previous Peace Prizes for Jimmy Carter and Al Gore, also prompted accusations of a liberal bias.\\nAung San Suu Kyi was awarded Peace Prize in 1993 however in 2015 when she came into power in Myanmar, she was criticized for being silent on human rights violation under her rule and especially over the Rohingya genocide and calls were made to strip of her from Nobel Peace Prize.\\n\\nLiterature Prize\\nThe award of the 2004 Literature Prize to Elfriede Jelinek drew a protest from a member of the Swedish Academy, Knut Ahnlund. Ahnlund resigned, alleging that the selection of Jelinek had caused \"irreparable damage to all progressive forces, it has also confused the general view of literature as an art\". He alleged that Jelinek\\'s works were \"a mass of text shovelled together without artistic structure\". The 2009 Literature Prize to Herta Müller also generated criticism. According to The Washington Post, many US literary critics and professors were ignorant of her work. This made those critics feel the prizes were too Eurocentric. The 2019 Literature Prize to Peter Handke received heavy criticisms from various authors, such as Salman Rushdie and Hari Kunzru, and was condemned by the governments of Bosnia and Herzegovina, Kosovo, and Turkey, due to his history of Bosnian genocide denialism and his support for Slobodan Milošević.\\n\\nScience prizes\\nIn 1949, the neurologist António Egas Moniz received the Physiology or Medicine Prize for his development of the prefrontal leucotomy. The previous year, Walter Freeman had developed a version of the procedure which was faster and easier to carry out. Due in part to the publicity surrounding the original procedure, Freeman\\'s procedure was prescribed without due consideration or regard for modern medical ethics. Endorsed by such influential publications as The New England Journal of Medicine, leucotomy or \"lobotomy\" became so popular that about 5,000 lobotomies were performed in the United States in the three years immediately following Moniz\\'s receipt of the Prize.\\n\\n\\n=== Overlooked achievements ===\\n\\nAlthough Mohandas Gandhi, an icon of nonviolence in the 20th century, was nominated for the Nobel Peace Prize five times, in 1937, 1938, 1939, 1947, and a few days before he was assassinated on 30 January 1948, he was never awarded the prize.\\nIn 1948, the year of Gandhi\\'s death, the Norwegian Nobel Committee decided to make no award that year on the grounds that \"there was no suitable living candidate\".\\nIn 1989, this omission was publicly regretted, when the 14th Dalai Lama was awarded the Peace Prize, the chairman of the committee said that it was \"in part a tribute to the memory of Mahatma Gandhi\".\\n\\nGeir Lundestad, 2006 Secretary of Norwegian Nobel Committee, said, The greatest omission in our 106-year history is undoubtedly that Mahatma Gandhi never received the Nobel Peace Prize. Gandhi could do without the Nobel Peace Prize. Whether the Nobel committee can do without Gandhi, is the question.\\nOther high-profile individuals with widely recognised contributions to peace have been overlooked. In 2009, an article in Foreign Policy magazine identified seven people who \"never won the prize, but should have\". The list consisted of Gandhi, Eleanor Roosevelt, Václav Havel, Ken Saro-Wiwa, Sari Nusseibeh, Corazon Aquino, and Liu Xiaobo. Liu Xiaobo would go on to win the 2010 Nobel Peace Prize while imprisoned.\\nIn 1965, UN Secretary General U Thant was informed by the Norwegian Permanent Representative to the UN that he would be awarded that year\\'s prize and asked whether or not he would accept. He consulted staff and later replied that he would. At the same time, Chairman Gunnar Jahn of the Nobel Peace prize committee, lobbied heavily against giving U Thant the prize and the prize was at the last minute awarded to UNICEF. The rest of the committee all wanted the prize to go to U Thant, for his work in defusing the Cuban Missile Crisis, ending the war in the Congo, and his ongoing work to mediate an end to the Vietnam War. The disagreement lasted three years and in 1966 and 1967 no prize was given, with Gunnar Jahn effectively vetoing an award to U Thant.\\nThe Literature Prize also has controversial omissions. Adam Kirsch has suggested that many notable writers have missed out on the award for political or extra-literary reasons. The heavy focus on European and Swedish authors has been a subject of criticism. The Eurocentric nature of the award was acknowledged by Peter Englund, the 2009 Permanent Secretary of the Swedish Academy, as a problem with the award and was attributed to the tendency for the academy to relate more to European authors. This tendency towards European authors still leaves many European writers on a list of notable writers that have been overlooked for the Literature Prize, including Leo Tolstoy, Anton Chekhov, J. R. R. Tolkien, Émile Zola, Marcel Proust, Vladimir Nabokov, James Joyce, August Strindberg, Simon Vestdijk, Karel Čapek, the New World\\'s Jorge Luis Borges, Ezra Pound, John Updike, Arthur Miller, Mark Twain, and Africa\\'s Chinua Achebe.\\nCandidates can receive multiple nominations the same year. Gaston Ramon received a total of 155 nominations in physiology or medicine from 1930 to 1953, the last year with public nomination data for that award as of 2016. He died in 1963 without being awarded. Pierre Paul Émile Roux received 115 nominations in physiology or medicine, and Arnold Sommerfeld received 84 in physics. These are the three most nominated scientists without awards in the data published as of 2016. Otto Stern received 79 nominations in physics 1925–1943 before being awarded in 1943.\\nThe strict rule against awarding a prize to more than three people is also controversial. When a prize is awarded to recognise an achievement by a team of more than three collaborators, one or more will miss out. For example, in 2002, the prize was awarded to Koichi Tanaka and John Fenn for the development of mass spectrometry in protein chemistry, an award that did not recognise the achievements of Franz Hillenkamp and Michael Karas of the Institute for Physical and Theoretical Chemistry at the University of Frankfurt.\\nAccording to one of the nominees for the prize in physics, the three person limit deprived him and two other members of his team of the honor in 2013: the team of Carl Hagen, Gerald Guralnik, and Tom Kibble published a paper in 1964 that gave answers to how the cosmos began, but did not share the 2013 Physics Prize awarded to Peter Higgs and François Englert, who had also published papers in 1964 concerning the subject. All five physicists arrived at the same conclusion, albeit from different angles. Hagen contends that an equitable solution is to either abandon the three limit restriction, or expand the time period of recognition for a given achievement to two years.\\nSimilarly, the prohibition of posthumous awards fails to recognise achievements by an individual or collaborator who dies before the prize is awarded. The Economics Prize was not awarded to Fischer Black, who died in 1995, when his co-author Myron Scholes received the honor in 1997 for their landmark work on option pricing along with Robert C. Merton, another pioneer in the development of valuation of stock options. In the announcement of the award that year, the Nobel committee prominently mentioned Black\\'s key role.\\nPolitical subterfuge may also deny proper recognition. Lise Meitner and Fritz Strassmann, who co-discovered nuclear fission along with Otto Hahn, may have been denied a share of Hahn\\'s 1944 Nobel Chemistry Award due to having fled Germany when the Nazis came to power. The Meitner and Strassmann roles in the research was not fully recognised until years later, when they joined Hahn in receiving the 1966 Enrico Fermi Award.\\n\\n\\n=== Emphasis on discoveries over inventions ===\\nAlfred Nobel left his fortune to finance annual prizes to be awarded \"to those who, during the preceding year, shall have conferred the greatest benefit on mankind\". He stated that the Nobel Prizes in Physics should be given \"to the person who shall have made the most important \\'discovery\\' or \\'invention\\' within the field of physics\". Nobel did not emphasise discoveries, but they have historically been held in higher respect by the Nobel Prize Committee than inventions: 77% of the Physics Prizes have been given to discoveries, compared with only 23% to inventions. Christoph Bartneck and Matthias Rauterberg, in papers published in Nature and Technoetic Arts, have argued this emphasis on discoveries has moved the Nobel Prize away from its original intention of rewarding the greatest contribution to society.\\n\\n\\n=== Gender ===\\n\\nIn terms of the most prestigious awards in STEM fields, only a small proportion have been awarded to women. Out of 210 laureates in Physics, 181 in Chemistry and 216 in Medicine between 1901 and 2018, there were only three female laureates in physics, five in chemistry and 12 in medicine. Factors proposed to contribute to the discrepancy between this and the roughly equal human sex ratio include biased nominations, fewer women than men being active in the relevant fields, Nobel Prizes typically being awarded decades after the research was done (reflecting a time when gender bias in the relevant fields was greater), a greater delay in awarding Nobel Prizes for women\\'s achievements making longevity a more important factor for women (one cannot be nominated for the Nobel Prize posthumously), and a tendency to omit women from jointly awarded Nobel Prizes. Despite these factors, Marie Curie is to date the only person awarded Nobel Prizes in two different sciences (Physics in 1903, Chemistry in 1911); she is one of only three people who have received two Nobel Prizes in sciences (see Multiple laureates below). Malala Yousafzai is the youngest person ever to be awarded the Nobel Peace Prize. When she received it in 2014, she was only 17 years old.\\n\\n\\n=== Status of the Economic Sciences Prize ===\\nPeter Nobel describes the Bank of Sweden Prize in Economic Sciences in Memory of Alfred Nobel as a \"false Nobel prize\" that dishonours his relative Alfred Nobel, after whom the prize is named, and considers economics to be a pseudoscience.\\n\\n\\n== Refusals and constraints ==\\n\\nTwo laureates have voluntarily declined the Nobel Prize. In 1964, Jean-Paul Sartre was awarded the Literature Prize, but refused, stating, \"A writer must refuse to allow himself to be transformed into an institution, even if it takes place in the most honourable form.\" Lê Đức Thọ, chosen for the 1973 Peace Prize for his role in the Paris Peace Accords, declined, stating that there was no actual peace in Vietnam. George Bernard Shaw attempted to decline the prize money while accepting the 1925 Literature Prize; eventually it was agreed to use it to found the Anglo-Swedish Literary Foundation.\\nDuring the Third Reich, Adolf Hitler hindered Richard Kuhn, Adolf Butenandt, and Gerhard Domagk from accepting their prizes. All of them were awarded their diplomas and gold medals after World War II.\\nIn 1958, Boris Pasternak declined his prize for literature due to fear of what the Soviet Union government might do if he travelled to Stockholm to accept his prize. In return, the Swedish Academy refused his refusal, saying \"this refusal, of course, in no way alters the validity of the award.\" The academy announced with regret that the presentation of the Literature Prize could not take place that year, holding it back until 1989 when Pasternak\\'s son accepted the prize on his behalf.\\nAung San Suu Kyi was awarded the Nobel Peace Prize in 1991, but her children accepted the prize because she had been placed under house arrest in Burma; Suu Kyi delivered her speech two decades later, in 2012. Liu Xiaobo was awarded the Nobel Peace Prize in 2010 while he and his wife were under house arrest in China as political prisoners, and he was unable to accept the prize in his lifetime.\\n\\n\\n== Impact ==\\n\\n\\n=== Cultural ===\\nBeing a symbol of scientific or literary achievement that is recognisable worldwide, the Nobel Prize is often depicted in fiction. This includes films such as The Prize (1963), Nobel Son (2007), and The Wife (2017) about fictional Nobel laureates, as well as fictionalised accounts of stories surrounding real prizes such as Nobel Chor, a 2012 film based on the theft of Rabindranath Tagore\\'s prize. It has also been depicted in television shows such as The Big Bang Theory.\\nThe statue and memorial symbol Planet of Alfred Nobel was opened in Alfred Nobel University of Economics and Law in Dnipro, Ukraine in 2008. On the globe, there are 802 Nobel laureates\\' reliefs made of a composite alloy obtained when disposing of military strategic missiles.\\nDespite the symbolism of intellectual achievement, some recipients have embraced unsupported and pseudoscientific concepts, including various health benefits of vitamin C and other dietary supplements, homeopathy, HIV/AIDS denialism, and various claims about race and intelligence. This is sometimes referred to as Nobel disease.\\n\\n\\n== See also ==\\n\\n\\n== References ==\\n\\n\\n=== Sources ===\\n This article incorporates text from a free content work. Licensed under CC BY-SA IGO 3.0 (license statement/permission). Text taken from A Complex Formula: Girls and Women in Science, Technology, Engineering and Mathematics in Asia\\u200b, 23, UNESCO, UNESCO. UNESCO.  \\n\\n\\n==== Books ====\\n\\n\\n== Further reading ==\\nPais, Abraham (1983). Subtle is the Lord: The Science and the Life of Albert Einstein (Third ed.). Oxford University Press. ISBN 978-0-19-520438-4. OCLC 8195995.\\n\\n\\n== External links ==\\n\\n Media related to Nobel Prize at Wikimedia Commons\\nOfficial website\\nNobel Prizes by universities and institutes', mimetype='text/plain', start_char_idx=None, end_char_idx=None, text_template='{metadata_str}\\n\\n{content}', metadata_template='{key}: {value}', metadata_seperator='\\n')"
            ]
          },
          "metadata": {},
          "execution_count": 8
        }
      ]
    },
    {
      "cell_type": "code",
      "execution_count": null,
      "id": "98bb38b7-0235-406c-9954-ab46809eef17",
      "metadata": {
        "id": "98bb38b7-0235-406c-9954-ab46809eef17"
      },
      "outputs": [],
      "source": [
        "# do sentence splitting on the first piece of text\n",
        "from llama_index.core.node_parser import SentenceSplitter"
      ]
    },
    {
      "cell_type": "code",
      "execution_count": null,
      "id": "a9700e6b-525d-46e2-940d-1768a42291b2",
      "metadata": {
        "id": "a9700e6b-525d-46e2-940d-1768a42291b2"
      },
      "outputs": [],
      "source": [
        "sentence_splitter = SentenceSplitter(chunk_size=1024)"
      ]
    },
    {
      "cell_type": "markdown",
      "id": "29d74a5e-6326-462c-a6f5-0694ad6388cb",
      "metadata": {
        "id": "29d74a5e-6326-462c-a6f5-0694ad6388cb"
      },
      "source": [
        "We get the first chunk from each essay."
      ]
    },
    {
      "cell_type": "code",
      "execution_count": null,
      "id": "d3539635-e328-42fa-b712-43616841c959",
      "metadata": {
        "id": "d3539635-e328-42fa-b712-43616841c959"
      },
      "outputs": [],
      "source": [
        "# get the first 1024 tokens for each entity\n",
        "openai_node = sentence_splitter.get_nodes_from_documents([documents[0]])[0]\n",
        "sama_node = sentence_splitter.get_nodes_from_documents([documents[1]])[0]\n",
        "mira_node = sentence_splitter.get_nodes_from_documents([documents[2]])[0]\n"
      ]
    },
    {
      "cell_type": "markdown",
      "id": "471e36b8-81d9-4afa-b53b-c810fbc84627",
      "metadata": {
        "id": "471e36b8-81d9-4afa-b53b-c810fbc84627"
      },
      "source": [
        "We'll also download Jerry's resume in 2019."
      ]
    },
    {
      "cell_type": "markdown",
      "id": "2a8aec6b-239c-45d5-a919-05cc52600fa1",
      "metadata": {
        "id": "2a8aec6b-239c-45d5-a919-05cc52600fa1"
      },
      "source": [
        "## Download Resume Screener Pack from LlamaHub\n",
        "\n",
        "Here we download the resume screener pack class from LlamaHub.\n",
        "\n",
        "We'll use it for two use cases:\n",
        "- whether the candidate is a good fit for a front-end / full-stack engineering role.\n",
        "- whether the candidate is a good fit for the CEO of OpenAI."
      ]
    },
    {
      "cell_type": "code",
      "execution_count": null,
      "id": "d40792de-2518-40a2-8468-c020d0decf18",
      "metadata": {
        "id": "d40792de-2518-40a2-8468-c020d0decf18"
      },
      "outputs": [],
      "source": [
        "from llama_index.core.llama_pack import download_llama_pack"
      ]
    },
    {
      "cell_type": "code",
      "execution_count": null,
      "id": "fc1819c2-0e8c-4a55-8e4b-aa17619b25b8",
      "metadata": {
        "id": "fc1819c2-0e8c-4a55-8e4b-aa17619b25b8"
      },
      "outputs": [],
      "source": [
        "ResumeScreenerPack = download_llama_pack(\n",
        "    \"ResumeScreenerPack\", \"./resume_screener_pack\"\n",
        ")"
      ]
    },
    {
      "cell_type": "markdown",
      "id": "7e957c52-8ae0-48aa-9041-641efa0de774",
      "metadata": {
        "id": "7e957c52-8ae0-48aa-9041-641efa0de774"
      },
      "source": [
        "### Screen Candidate for MLE Role\n",
        "\n",
        "We take a job description on an MLE role from Meta's website."
      ]
    },
    {
      "cell_type": "code",
      "execution_count": null,
      "id": "d44f76f0-ac12-4f8c-ba8c-e6d1680a26d8",
      "metadata": {
        "id": "d44f76f0-ac12-4f8c-ba8c-e6d1680a26d8"
      },
      "outputs": [],
      "source": [
        "meta_jd = \"\"\"\\\n",
        "Meta is embarking on the most transformative change to its business and technology in company history, and our Machine Learning Engineers are at the forefront of this evolution. By leading crucial projects and initiatives that have never been done before, you have an opportunity to help us advance the way people connect around the world.\n",
        "\n",
        "The ideal candidate will have industry experience working on a range of recommendation, classification, and optimization problems. You will bring the ability to own the whole ML life cycle, define projects and drive excellence across teams. You will work alongside the world’s leading engineers and researchers to solve some of the most exciting and massive social data and prediction problems that exist on the web.\\\n",
        "\"\"\""
      ]
    },
    {
      "cell_type": "code",
      "source": [
        "from google.colab import userdata\n",
        "key = userdata.get('open_Key')"
      ],
      "metadata": {
        "id": "r9opxK37wYg9"
      },
      "id": "r9opxK37wYg9",
      "execution_count": null,
      "outputs": []
    },
    {
      "cell_type": "code",
      "source": [
        "import os\n",
        "from google.colab import userdata\n",
        "#os.environ['OPENAI_API_KEY'] = userdata.get('openAI2024')\n",
        "#You need to run below cell\n",
        "#os.environ['OPENAI_API_KEY'] = \" Add API Key Here \"\n",
        "os.environ['OPENAI_API_KEY'] = key\n",
        "# # Replace 'YOUR_API_KEY' with your actual OpenAI API key\n",
        "\n",
        "\n",
        "# os.environ['OPENAI_API_KEY'] = ''"
      ],
      "metadata": {
        "id": "VO8B4Aa3rd3y"
      },
      "id": "VO8B4Aa3rd3y",
      "execution_count": null,
      "outputs": []
    },
    {
      "cell_type": "code",
      "source": [
        "%cd /content/resume_screener_pack/llama_index/packs/resume_screener"
      ],
      "metadata": {
        "colab": {
          "base_uri": "https://localhost:8080/"
        },
        "id": "U9W2uaBZmQwo",
        "outputId": "14c17f0d-8fb7-4f7d-fc67-6009d950d726"
      },
      "id": "U9W2uaBZmQwo",
      "execution_count": null,
      "outputs": [
        {
          "output_type": "stream",
          "name": "stdout",
          "text": [
            "/content/resume_screener_pack/llama_index/packs/resume_screener\n"
          ]
        }
      ]
    },
    {
      "cell_type": "code",
      "execution_count": null,
      "id": "a018abe4-8e0b-4f5d-aee2-9f2873fb245d",
      "metadata": {
        "id": "a018abe4-8e0b-4f5d-aee2-9f2873fb245d"
      },
      "outputs": [],
      "source": [
        "from base import ResumeScreenerPack as llamapack\n",
        "resume_screener = llamapack(\n",
        "    job_description=meta_jd,\n",
        "    criteria=[\n",
        "        \"2+ years of experience in one or more of the following areas: machine learning, recommendation systems, pattern recognition, data mining, artificial intelligence, or related technical field\",\n",
        "        \"Experience demonstrating technical leadership working with teams, owning projects, defining and setting technical direction for projects\",\n",
        "        \"Bachelor's degree in Computer Science, Computer Engineering, relevant technical field, or equivalent practical experience.\"\n",
        "    ],\n",
        ")"
      ]
    },
    {
      "cell_type": "code",
      "source": [],
      "metadata": {
        "id": "trntrnlnvHw0"
      },
      "id": "trntrnlnvHw0",
      "execution_count": null,
      "outputs": []
    },
    {
      "cell_type": "code",
      "execution_count": null,
      "id": "bc406e7c-1639-4315-b627-495c18ebb47d",
      "metadata": {
        "collapsed": true,
        "id": "bc406e7c-1639-4315-b627-495c18ebb47d"
      },
      "outputs": [],
      "source": [
        "response = resume_screener.run(resume_path=\"/content/cv_Umair_ML_25.pdf\")"
      ]
    },
    {
      "cell_type": "code",
      "execution_count": null,
      "id": "acfeed3c-dc05-4e69-af9c-bb4cbe409798",
      "metadata": {
        "id": "acfeed3c-dc05-4e69-af9c-bb4cbe409798",
        "outputId": "e6811bae-5875-4666-f4ee-17431d8caef5",
        "colab": {
          "base_uri": "https://localhost:8080/"
        }
      },
      "outputs": [
        {
          "output_type": "stream",
          "name": "stdout",
          "text": [
            "### CRITERIA DECISION\n",
            "The candidate has a Ph.D. in Computer Science and is currently pursuing it, along with relevant experience in Machine Learning, Natural Language Processing, and Computer Vision projects.\n",
            "True\n",
            "### CRITERIA DECISION\n",
            "The candidate has demonstrated technical leadership in various roles, such as AI Trainer, NLP Engineer, Data Scientist, and Generative AI Consultant, showing the ability to own projects and work with teams.\n",
            "True\n",
            "### CRITERIA DECISION\n",
            "The candidate holds an MS in Computer Science and has been involved in a variety of ML and AI projects, showcasing practical experience.\n",
            "True\n",
            "#### OVERALL REASONING ##### \n",
            "The candidate meets all the screening criteria: has relevant experience in machine learning, technical leadership skills, and holds a degree in Computer Science. Additionally, the candidate has worked on a wide range of ML and AI projects, making them a suitable candidate for the position.\n",
            "True\n"
          ]
        }
      ],
      "source": [
        "for cd in response.criteria_decisions:\n",
        "    print(\"### CRITERIA DECISION\")\n",
        "    print(cd.reasoning)\n",
        "    print(cd.decision)\n",
        "print(\"#### OVERALL REASONING ##### \")\n",
        "print(str(response.overall_reasoning))\n",
        "print(str(response.overall_decision))"
      ]
    },
    {
      "cell_type": "markdown",
      "id": "4cd4d149-c862-4591-bd98-9d8f55278c7c",
      "metadata": {
        "id": "4cd4d149-c862-4591-bd98-9d8f55278c7c"
      },
      "source": [
        "### Screen Candidate for FE / Typescript roles"
      ]
    },
    {
      "cell_type": "code",
      "execution_count": null,
      "id": "d94efb7f-b170-4833-be2a-eb5911fed816",
      "metadata": {
        "id": "d94efb7f-b170-4833-be2a-eb5911fed816"
      },
      "outputs": [],
      "source": [
        "resume_screener = ResumeScreenerPack(\n",
        "    job_description=\"We're looking to hire a front-end engineer\",\n",
        "    criteria=[\n",
        "        \"The individual needs to be experienced in front-end / React / Typescript\"\n",
        "    ],\n",
        ")"
      ]
    },
    {
      "cell_type": "code",
      "execution_count": null,
      "id": "08db7399-d43b-4139-8809-f8f493329f76",
      "metadata": {
        "id": "08db7399-d43b-4139-8809-f8f493329f76"
      },
      "outputs": [],
      "source": [
        "response = resume_screener.run(resume_path=\"/content/cv_Umair_ML_25.pdf\")"
      ]
    },
    {
      "cell_type": "code",
      "execution_count": null,
      "id": "7669250b-d0d0-4825-a429-c1d1c4f34ee1",
      "metadata": {
        "id": "7669250b-d0d0-4825-a429-c1d1c4f34ee1",
        "outputId": "780dd0e7-9b01-4b9a-a83a-926d077b2a06",
        "colab": {
          "base_uri": "https://localhost:8080/"
        }
      },
      "outputs": [
        {
          "output_type": "stream",
          "name": "stdout",
          "text": [
            "The candidate meets the screening criteria by having relevant academic qualifications, over 2 years of experience in machine learning projects, and demonstrating technical leadership in various roles.\n",
            "True\n"
          ]
        }
      ],
      "source": [
        "# print(str(response.overall_reasoning))\n",
        "# print(str(response.overall_decision))"
      ]
    },
    {
      "cell_type": "markdown",
      "id": "e31684e4-61ef-4796-8f13-5d7291d2c5dd",
      "metadata": {
        "id": "e31684e4-61ef-4796-8f13-5d7291d2c5dd"
      },
      "source": [
        "### Screen Candidate for CEO of OpenAI\n",
        "\n",
        "Jerry can't write Typescript, but can he be CEO of OpenAI?"
      ]
    },
    {
      "cell_type": "code",
      "execution_count": null,
      "id": "57efbd93-7249-4b04-b5be-d74e5953d004",
      "metadata": {
        "id": "57efbd93-7249-4b04-b5be-d74e5953d004"
      },
      "outputs": [],
      "source": [
        "job_description = f\"\"\"\\\n",
        "We're looking to hire a CEO for OpenAI.\n",
        "\n",
        "Instead of listing a set of specific criteria, each \"criteria\" is instead a short biography of a previous CEO.\\\n",
        "\n",
        "For each criteria/bio, outline if the candidate's experience matches or surpasses that of the candidate.\n",
        "\n",
        "Also, here's a description of OpenAI from Wikipedia:\n",
        "{openai_node.get_content()}\n",
        "\"\"\"\n",
        "\n",
        "profile_strs = [\n",
        "    f\"Profile: {n.get_content()}\" for n in [sama_node, mira_node, emmett_node]\n",
        "]\n",
        "\n",
        "\n",
        "resume_screener = ResumeScreenerPack(\n",
        "    job_description=job_description, criteria=profile_strs\n",
        ")"
      ]
    },
    {
      "cell_type": "code",
      "execution_count": null,
      "id": "409b0a27-f550-471d-83a3-c5b39e6def71",
      "metadata": {
        "id": "409b0a27-f550-471d-83a3-c5b39e6def71"
      },
      "outputs": [],
      "source": [
        "response = resume_screener.run(resume_path=\"jerry_resume.pdf\")"
      ]
    },
    {
      "cell_type": "code",
      "execution_count": null,
      "id": "35384368-bcb5-4422-a92d-1a1cf7aab853",
      "metadata": {
        "id": "35384368-bcb5-4422-a92d-1a1cf7aab853"
      },
      "outputs": [],
      "source": [
        "for cd in response.criteria_decisions:\n",
        "    print(\"### CRITERIA DECISION\")\n",
        "    print(cd.reasoning)\n",
        "    print(cd.decision)\n",
        "print(\"#### OVERALL REASONING ##### \")\n",
        "print(str(response.overall_reasoning))\n",
        "print(str(response.overall_decision))"
      ]
    },
    {
      "cell_type": "markdown",
      "id": "681bde1f-c254-4398-b65f-6ac1aacbf067",
      "metadata": {
        "id": "681bde1f-c254-4398-b65f-6ac1aacbf067"
      },
      "source": [
        "...sadly not"
      ]
    },
    {
      "cell_type": "markdown",
      "source": [
        "# Gradio App"
      ],
      "metadata": {
        "id": "0_vBmc2gybll"
      },
      "id": "0_vBmc2gybll"
    },
    {
      "cell_type": "code",
      "source": [
        "!pip install gradio"
      ],
      "metadata": {
        "colab": {
          "base_uri": "https://localhost:8080/"
        },
        "collapsed": true,
        "id": "iFGWjSfMyhrX",
        "outputId": "53fb949d-357b-4c25-e449-dcfba5911468"
      },
      "id": "iFGWjSfMyhrX",
      "execution_count": null,
      "outputs": [
        {
          "output_type": "stream",
          "name": "stdout",
          "text": [
            "Collecting gradio\n",
            "  Downloading gradio-5.1.0-py3-none-any.whl.metadata (15 kB)\n",
            "Collecting aiofiles<24.0,>=22.0 (from gradio)\n",
            "  Downloading aiofiles-23.2.1-py3-none-any.whl.metadata (9.7 kB)\n",
            "Requirement already satisfied: anyio<5.0,>=3.0 in /usr/local/lib/python3.10/dist-packages (from gradio) (3.7.1)\n",
            "Collecting fastapi<1.0 (from gradio)\n",
            "  Downloading fastapi-0.115.2-py3-none-any.whl.metadata (27 kB)\n",
            "Collecting ffmpy (from gradio)\n",
            "  Downloading ffmpy-0.4.0-py3-none-any.whl.metadata (2.9 kB)\n",
            "Collecting gradio-client==1.4.0 (from gradio)\n",
            "  Downloading gradio_client-1.4.0-py3-none-any.whl.metadata (7.1 kB)\n",
            "Requirement already satisfied: httpx>=0.24.1 in /usr/local/lib/python3.10/dist-packages (from gradio) (0.27.2)\n",
            "Collecting huggingface-hub>=0.25.1 (from gradio)\n",
            "  Downloading huggingface_hub-0.25.2-py3-none-any.whl.metadata (13 kB)\n",
            "Requirement already satisfied: jinja2<4.0 in /usr/local/lib/python3.10/dist-packages (from gradio) (3.1.4)\n",
            "Collecting markupsafe~=2.0 (from gradio)\n",
            "  Downloading MarkupSafe-2.1.5-cp310-cp310-manylinux_2_17_x86_64.manylinux2014_x86_64.whl.metadata (3.0 kB)\n",
            "Requirement already satisfied: numpy<3.0,>=1.0 in /usr/local/lib/python3.10/dist-packages (from gradio) (1.26.4)\n",
            "Collecting orjson~=3.0 (from gradio)\n",
            "  Downloading orjson-3.10.7-cp310-cp310-manylinux_2_17_x86_64.manylinux2014_x86_64.whl.metadata (50 kB)\n",
            "\u001b[2K     \u001b[90m━━━━━━━━━━━━━━━━━━━━━━━━━━━━━━━━━━━━━━━━\u001b[0m \u001b[32m50.4/50.4 kB\u001b[0m \u001b[31m4.1 MB/s\u001b[0m eta \u001b[36m0:00:00\u001b[0m\n",
            "\u001b[?25hRequirement already satisfied: packaging in /usr/local/lib/python3.10/dist-packages (from gradio) (24.1)\n",
            "Requirement already satisfied: pandas<3.0,>=1.0 in /usr/local/lib/python3.10/dist-packages (from gradio) (2.2.2)\n",
            "Requirement already satisfied: pillow<11.0,>=8.0 in /usr/local/lib/python3.10/dist-packages (from gradio) (10.4.0)\n",
            "Requirement already satisfied: pydantic>=2.0 in /usr/local/lib/python3.10/dist-packages (from gradio) (2.9.2)\n",
            "Collecting pydub (from gradio)\n",
            "  Downloading pydub-0.25.1-py2.py3-none-any.whl.metadata (1.4 kB)\n",
            "Collecting python-multipart>=0.0.9 (from gradio)\n",
            "  Downloading python_multipart-0.0.12-py3-none-any.whl.metadata (1.9 kB)\n",
            "Requirement already satisfied: pyyaml<7.0,>=5.0 in /usr/local/lib/python3.10/dist-packages (from gradio) (6.0.2)\n",
            "Collecting ruff>=0.2.2 (from gradio)\n",
            "  Downloading ruff-0.6.9-py3-none-manylinux_2_17_x86_64.manylinux2014_x86_64.whl.metadata (25 kB)\n",
            "Collecting semantic-version~=2.0 (from gradio)\n",
            "  Downloading semantic_version-2.10.0-py2.py3-none-any.whl.metadata (9.7 kB)\n",
            "Collecting tomlkit==0.12.0 (from gradio)\n",
            "  Downloading tomlkit-0.12.0-py3-none-any.whl.metadata (2.7 kB)\n",
            "Requirement already satisfied: typer<1.0,>=0.12 in /usr/local/lib/python3.10/dist-packages (from gradio) (0.12.5)\n",
            "Requirement already satisfied: typing-extensions~=4.0 in /usr/local/lib/python3.10/dist-packages (from gradio) (4.12.2)\n",
            "Collecting uvicorn>=0.14.0 (from gradio)\n",
            "  Downloading uvicorn-0.32.0-py3-none-any.whl.metadata (6.6 kB)\n",
            "Requirement already satisfied: fsspec in /usr/local/lib/python3.10/dist-packages (from gradio-client==1.4.0->gradio) (2024.6.1)\n",
            "Collecting websockets<13.0,>=10.0 (from gradio-client==1.4.0->gradio)\n",
            "  Downloading websockets-12.0-cp310-cp310-manylinux_2_5_x86_64.manylinux1_x86_64.manylinux_2_17_x86_64.manylinux2014_x86_64.whl.metadata (6.6 kB)\n",
            "Requirement already satisfied: idna>=2.8 in /usr/local/lib/python3.10/dist-packages (from anyio<5.0,>=3.0->gradio) (3.10)\n",
            "Requirement already satisfied: sniffio>=1.1 in /usr/local/lib/python3.10/dist-packages (from anyio<5.0,>=3.0->gradio) (1.3.1)\n",
            "Requirement already satisfied: exceptiongroup in /usr/local/lib/python3.10/dist-packages (from anyio<5.0,>=3.0->gradio) (1.2.2)\n",
            "Collecting starlette<0.41.0,>=0.37.2 (from fastapi<1.0->gradio)\n",
            "  Downloading starlette-0.40.0-py3-none-any.whl.metadata (6.0 kB)\n",
            "Requirement already satisfied: certifi in /usr/local/lib/python3.10/dist-packages (from httpx>=0.24.1->gradio) (2024.8.30)\n",
            "Requirement already satisfied: httpcore==1.* in /usr/local/lib/python3.10/dist-packages (from httpx>=0.24.1->gradio) (1.0.6)\n",
            "Requirement already satisfied: h11<0.15,>=0.13 in /usr/local/lib/python3.10/dist-packages (from httpcore==1.*->httpx>=0.24.1->gradio) (0.14.0)\n",
            "Requirement already satisfied: filelock in /usr/local/lib/python3.10/dist-packages (from huggingface-hub>=0.25.1->gradio) (3.16.1)\n",
            "Requirement already satisfied: requests in /usr/local/lib/python3.10/dist-packages (from huggingface-hub>=0.25.1->gradio) (2.32.3)\n",
            "Requirement already satisfied: tqdm>=4.42.1 in /usr/local/lib/python3.10/dist-packages (from huggingface-hub>=0.25.1->gradio) (4.66.5)\n",
            "Requirement already satisfied: python-dateutil>=2.8.2 in /usr/local/lib/python3.10/dist-packages (from pandas<3.0,>=1.0->gradio) (2.8.2)\n",
            "Requirement already satisfied: pytz>=2020.1 in /usr/local/lib/python3.10/dist-packages (from pandas<3.0,>=1.0->gradio) (2024.2)\n",
            "Requirement already satisfied: tzdata>=2022.7 in /usr/local/lib/python3.10/dist-packages (from pandas<3.0,>=1.0->gradio) (2024.2)\n",
            "Requirement already satisfied: annotated-types>=0.6.0 in /usr/local/lib/python3.10/dist-packages (from pydantic>=2.0->gradio) (0.7.0)\n",
            "Requirement already satisfied: pydantic-core==2.23.4 in /usr/local/lib/python3.10/dist-packages (from pydantic>=2.0->gradio) (2.23.4)\n",
            "Requirement already satisfied: click>=8.0.0 in /usr/local/lib/python3.10/dist-packages (from typer<1.0,>=0.12->gradio) (8.1.7)\n",
            "Requirement already satisfied: shellingham>=1.3.0 in /usr/local/lib/python3.10/dist-packages (from typer<1.0,>=0.12->gradio) (1.5.4)\n",
            "Requirement already satisfied: rich>=10.11.0 in /usr/local/lib/python3.10/dist-packages (from typer<1.0,>=0.12->gradio) (13.9.2)\n",
            "Requirement already satisfied: six>=1.5 in /usr/local/lib/python3.10/dist-packages (from python-dateutil>=2.8.2->pandas<3.0,>=1.0->gradio) (1.16.0)\n",
            "Requirement already satisfied: markdown-it-py>=2.2.0 in /usr/local/lib/python3.10/dist-packages (from rich>=10.11.0->typer<1.0,>=0.12->gradio) (3.0.0)\n",
            "Requirement already satisfied: pygments<3.0.0,>=2.13.0 in /usr/local/lib/python3.10/dist-packages (from rich>=10.11.0->typer<1.0,>=0.12->gradio) (2.18.0)\n",
            "Requirement already satisfied: charset-normalizer<4,>=2 in /usr/local/lib/python3.10/dist-packages (from requests->huggingface-hub>=0.25.1->gradio) (3.4.0)\n",
            "Requirement already satisfied: urllib3<3,>=1.21.1 in /usr/local/lib/python3.10/dist-packages (from requests->huggingface-hub>=0.25.1->gradio) (2.2.3)\n",
            "Requirement already satisfied: mdurl~=0.1 in /usr/local/lib/python3.10/dist-packages (from markdown-it-py>=2.2.0->rich>=10.11.0->typer<1.0,>=0.12->gradio) (0.1.2)\n",
            "Downloading gradio-5.1.0-py3-none-any.whl (42.3 MB)\n",
            "\u001b[2K   \u001b[90m━━━━━━━━━━━━━━━━━━━━━━━━━━━━━━━━━━━━━━━━\u001b[0m \u001b[32m42.3/42.3 MB\u001b[0m \u001b[31m18.3 MB/s\u001b[0m eta \u001b[36m0:00:00\u001b[0m\n",
            "\u001b[?25hDownloading gradio_client-1.4.0-py3-none-any.whl (319 kB)\n",
            "\u001b[2K   \u001b[90m━━━━━━━━━━━━━━━━━━━━━━━━━━━━━━━━━━━━━━━━\u001b[0m \u001b[32m319.8/319.8 kB\u001b[0m \u001b[31m23.7 MB/s\u001b[0m eta \u001b[36m0:00:00\u001b[0m\n",
            "\u001b[?25hDownloading tomlkit-0.12.0-py3-none-any.whl (37 kB)\n",
            "Downloading aiofiles-23.2.1-py3-none-any.whl (15 kB)\n",
            "Downloading fastapi-0.115.2-py3-none-any.whl (94 kB)\n",
            "\u001b[2K   \u001b[90m━━━━━━━━━━━━━━━━━━━━━━━━━━━━━━━━━━━━━━━━\u001b[0m \u001b[32m94.7/94.7 kB\u001b[0m \u001b[31m7.5 MB/s\u001b[0m eta \u001b[36m0:00:00\u001b[0m\n",
            "\u001b[?25hDownloading huggingface_hub-0.25.2-py3-none-any.whl (436 kB)\n",
            "\u001b[2K   \u001b[90m━━━━━━━━━━━━━━━━━━━━━━━━━━━━━━━━━━━━━━━━\u001b[0m \u001b[32m436.6/436.6 kB\u001b[0m \u001b[31m28.6 MB/s\u001b[0m eta \u001b[36m0:00:00\u001b[0m\n",
            "\u001b[?25hDownloading MarkupSafe-2.1.5-cp310-cp310-manylinux_2_17_x86_64.manylinux2014_x86_64.whl (25 kB)\n",
            "Downloading orjson-3.10.7-cp310-cp310-manylinux_2_17_x86_64.manylinux2014_x86_64.whl (141 kB)\n",
            "\u001b[2K   \u001b[90m━━━━━━━━━━━━━━━━━━━━━━━━━━━━━━━━━━━━━━━━\u001b[0m \u001b[32m141.9/141.9 kB\u001b[0m \u001b[31m11.0 MB/s\u001b[0m eta \u001b[36m0:00:00\u001b[0m\n",
            "\u001b[?25hDownloading python_multipart-0.0.12-py3-none-any.whl (23 kB)\n",
            "Downloading ruff-0.6.9-py3-none-manylinux_2_17_x86_64.manylinux2014_x86_64.whl (10.9 MB)\n",
            "\u001b[2K   \u001b[90m━━━━━━━━━━━━━━━━━━━━━━━━━━━━━━━━━━━━━━━━\u001b[0m \u001b[32m10.9/10.9 MB\u001b[0m \u001b[31m90.8 MB/s\u001b[0m eta \u001b[36m0:00:00\u001b[0m\n",
            "\u001b[?25hDownloading semantic_version-2.10.0-py2.py3-none-any.whl (15 kB)\n",
            "Downloading uvicorn-0.32.0-py3-none-any.whl (63 kB)\n",
            "\u001b[2K   \u001b[90m━━━━━━━━━━━━━━━━━━━━━━━━━━━━━━━━━━━━━━━━\u001b[0m \u001b[32m63.7/63.7 kB\u001b[0m \u001b[31m4.3 MB/s\u001b[0m eta \u001b[36m0:00:00\u001b[0m\n",
            "\u001b[?25hDownloading ffmpy-0.4.0-py3-none-any.whl (5.8 kB)\n",
            "Downloading pydub-0.25.1-py2.py3-none-any.whl (32 kB)\n",
            "Downloading starlette-0.40.0-py3-none-any.whl (73 kB)\n",
            "\u001b[2K   \u001b[90m━━━━━━━━━━━━━━━━━━━━━━━━━━━━━━━━━━━━━━━━\u001b[0m \u001b[32m73.3/73.3 kB\u001b[0m \u001b[31m5.2 MB/s\u001b[0m eta \u001b[36m0:00:00\u001b[0m\n",
            "\u001b[?25hDownloading websockets-12.0-cp310-cp310-manylinux_2_5_x86_64.manylinux1_x86_64.manylinux_2_17_x86_64.manylinux2014_x86_64.whl (130 kB)\n",
            "\u001b[2K   \u001b[90m━━━━━━━━━━━━━━━━━━━━━━━━━━━━━━━━━━━━━━━━\u001b[0m \u001b[32m130.2/130.2 kB\u001b[0m \u001b[31m8.6 MB/s\u001b[0m eta \u001b[36m0:00:00\u001b[0m\n",
            "\u001b[?25hInstalling collected packages: pydub, websockets, uvicorn, tomlkit, semantic-version, ruff, python-multipart, orjson, markupsafe, ffmpy, aiofiles, starlette, huggingface-hub, gradio-client, fastapi, gradio\n",
            "  Attempting uninstall: markupsafe\n",
            "    Found existing installation: MarkupSafe 3.0.1\n",
            "    Uninstalling MarkupSafe-3.0.1:\n",
            "      Successfully uninstalled MarkupSafe-3.0.1\n",
            "  Attempting uninstall: huggingface-hub\n",
            "    Found existing installation: huggingface-hub 0.24.7\n",
            "    Uninstalling huggingface-hub-0.24.7:\n",
            "      Successfully uninstalled huggingface-hub-0.24.7\n",
            "Successfully installed aiofiles-23.2.1 fastapi-0.115.2 ffmpy-0.4.0 gradio-5.1.0 gradio-client-1.4.0 huggingface-hub-0.25.2 markupsafe-2.1.5 orjson-3.10.7 pydub-0.25.1 python-multipart-0.0.12 ruff-0.6.9 semantic-version-2.10.0 starlette-0.40.0 tomlkit-0.12.0 uvicorn-0.32.0 websockets-12.0\n"
          ]
        }
      ]
    },
    {
      "cell_type": "code",
      "source": [
        "import gradio as gr\n",
        "import os\n",
        "\n",
        "#from llama_index.core.llama_pack import download_llama_pack\n",
        "from google.colab import userdata\n",
        "from base import ResumeScreenerPack as llamapack\n",
        "\n",
        "# Download Llama pack\n",
        "# ResumeScreenerPack = download_llama_pack(\"ResumeScreenerPack\", \"./resume_screener_pack\")\n",
        "\n",
        "# Job description and criteria\n",
        "meta_jd = \"\"\"\\\n",
        "Meta is embarking on the most transformative change to its business and technology in company history, and our Machine Learning Engineers are at the forefront of this evolution. By leading crucial projects and initiatives that have never been done before, you have an opportunity to help us advance the way people connect around the world.\n",
        "\n",
        "The ideal candidate will have industry experience working on a range of recommendation, classification, and optimization problems. You will bring the ability to own the whole ML life cycle, define projects and drive excellence across teams. You will work alongside the world’s leading engineers and researchers to solve some of the most exciting and massive social data and prediction problems that exist on the web.\\\n",
        "\"\"\"\n",
        "\n",
        "criteria = [\n",
        "    \"2+ years of experience in one or more of the following areas: machine learning, recommendation systems, pattern recognition, data mining, artificial intelligence, or related technical field\",\n",
        "    \"Experience demonstrating technical leadership working with teams, owning projects, defining and setting technical direction for projects\",\n",
        "    \"Bachelor's degree in Computer Science, Computer Engineering, relevant technical field, or equivalent practical experience.\",\n",
        "]\n",
        "\n",
        "# Set OpenAI API key\n",
        "os.environ['OPENAI_API_KEY'] = userdata.get('openAI2024')\n",
        "\n",
        "# Define the resume screening function\n",
        "def screen_resume(resume):\n",
        "    resume_screener = llamapack(\n",
        "        job_description=meta_jd,\n",
        "        criteria=criteria,\n",
        "    )\n",
        "    response = resume_screener.run(resume_path=resume)\n",
        "\n",
        "    decisions = []\n",
        "    for cd in response.criteria_decisions:\n",
        "        decisions.append(f\"### CRITERIA DECISION\\n{cd.reasoning}\\nDecision: {cd.decision}\\n\")\n",
        "\n",
        "    overall_reasoning = f\"#### OVERALL REASONING #####\\n{str(response.overall_reasoning)}\\nOverall Decision: {str(response.overall_decision)}\"\n",
        "\n",
        "    return \"\\n\".join(decisions) + \"\\n\" + overall_reasoning\n",
        "\n",
        "# Create the Gradio interface\n",
        "iface = gr.Interface(\n",
        "    fn=screen_resume,\n",
        "    inputs=gr.File(file_types=[\".pdf\"]),\n",
        "    outputs=\"text\",\n",
        "    title=\"Resume Screener\",\n",
        "    description=\"Upload a PDF resume to screen it according to the provided job description and criteria.\"\n",
        ")\n",
        "\n",
        "# Launch the interface\n",
        "iface.launch(auth=(\"atomcamp\", \"12345678\"))\n"
      ],
      "metadata": {
        "colab": {
          "base_uri": "https://localhost:8080/",
          "height": 648
        },
        "id": "SyA8WrPkyfXk",
        "outputId": "f79025e8-03ad-4201-fe74-cf980d202f61"
      },
      "id": "SyA8WrPkyfXk",
      "execution_count": null,
      "outputs": [
        {
          "output_type": "stream",
          "name": "stdout",
          "text": [
            "Running Gradio in a Colab notebook requires sharing enabled. Automatically setting `share=True` (you can turn this off by setting `share=False` in `launch()` explicitly).\n",
            "\n",
            "Colab notebook detected. To show errors in colab notebook, set debug=True in launch()\n",
            "* Running on public URL: https://349309fbf3656fabbd.gradio.live\n",
            "\n",
            "This share link expires in 72 hours. For free permanent hosting and GPU upgrades, run `gradio deploy` from the terminal in the working directory to deploy to Hugging Face Spaces (https://huggingface.co/spaces)\n"
          ]
        },
        {
          "output_type": "display_data",
          "data": {
            "text/plain": [
              "<IPython.core.display.HTML object>"
            ],
            "text/html": [
              "<div><iframe src=\"https://349309fbf3656fabbd.gradio.live\" width=\"100%\" height=\"500\" allow=\"autoplay; camera; microphone; clipboard-read; clipboard-write;\" frameborder=\"0\" allowfullscreen></iframe></div>"
            ]
          },
          "metadata": {}
        },
        {
          "output_type": "execute_result",
          "data": {
            "text/plain": []
          },
          "metadata": {},
          "execution_count": 15
        }
      ]
    },
    {
      "cell_type": "code",
      "source": [
        "# prompt: /content/resume_screener_pack write code to download this repo as zip file\n",
        "\n",
        "!zip -r /content/resume_screener_pack.zip /content/resume_screener_pack\n",
        "from google.colab import files\n",
        "files.download(\"/content/resume_screener_pack.zip\")"
      ],
      "metadata": {
        "colab": {
          "base_uri": "https://localhost:8080/",
          "height": 483
        },
        "id": "xk-W376TvKUU",
        "outputId": "5118f707-f7a4-4aab-baaf-adbde3dba7d9"
      },
      "id": "xk-W376TvKUU",
      "execution_count": null,
      "outputs": [
        {
          "output_type": "stream",
          "name": "stdout",
          "text": [
            "  adding: content/resume_screener_pack/ (stored 0%)\n",
            "  adding: content/resume_screener_pack/llama_index/ (stored 0%)\n",
            "  adding: content/resume_screener_pack/llama_index/packs/ (stored 0%)\n",
            "  adding: content/resume_screener_pack/llama_index/packs/resume_screener/ (stored 0%)\n",
            "  adding: content/resume_screener_pack/llama_index/packs/resume_screener/.gradio/ (stored 0%)\n",
            "  adding: content/resume_screener_pack/llama_index/packs/resume_screener/.gradio/certificate.pem (deflated 24%)\n",
            "  adding: content/resume_screener_pack/llama_index/packs/resume_screener/resume_screener_pack/ (stored 0%)\n",
            "  adding: content/resume_screener_pack/llama_index/packs/resume_screener/resume_screener_pack/llama_index/ (stored 0%)\n",
            "  adding: content/resume_screener_pack/llama_index/packs/resume_screener/resume_screener_pack/llama_index/packs/ (stored 0%)\n",
            "  adding: content/resume_screener_pack/llama_index/packs/resume_screener/resume_screener_pack/llama_index/packs/resume_screener/ (stored 0%)\n",
            "  adding: content/resume_screener_pack/llama_index/packs/resume_screener/resume_screener_pack/llama_index/packs/resume_screener/base.py (deflated 64%)\n",
            "  adding: content/resume_screener_pack/llama_index/packs/resume_screener/resume_screener_pack/llama_index/packs/resume_screener/__init__.py (deflated 23%)\n",
            "  adding: content/resume_screener_pack/llama_index/packs/resume_screener/resume_screener_pack/llama_index/packs/resume_screener/__pycache__/ (stored 0%)\n",
            "  adding: content/resume_screener_pack/llama_index/packs/resume_screener/resume_screener_pack/llama_index/packs/resume_screener/__pycache__/__init__.cpython-310.pyc (deflated 42%)\n",
            "  adding: content/resume_screener_pack/llama_index/packs/resume_screener/resume_screener_pack/llama_index/packs/resume_screener/BUILD (stored 0%)\n",
            "  adding: content/resume_screener_pack/llama_index/packs/resume_screener/resume_screener_pack/README.md (stored 0%)\n",
            "  adding: content/resume_screener_pack/llama_index/packs/resume_screener/resume_screener_pack/pyproject.toml (deflated 51%)\n",
            "  adding: content/resume_screener_pack/llama_index/packs/resume_screener/base.py (deflated 63%)\n",
            "  adding: content/resume_screener_pack/llama_index/packs/resume_screener/__init__.py (deflated 23%)\n",
            "  adding: content/resume_screener_pack/llama_index/packs/resume_screener/__pycache__/ (stored 0%)\n",
            "  adding: content/resume_screener_pack/llama_index/packs/resume_screener/__pycache__/__init__.cpython-310.pyc (deflated 31%)\n",
            "  adding: content/resume_screener_pack/llama_index/packs/resume_screener/__pycache__/base.cpython-310.pyc (deflated 48%)\n",
            "  adding: content/resume_screener_pack/llama_index/packs/resume_screener/BUILD (stored 0%)\n",
            "  adding: content/resume_screener_pack/README.md (stored 0%)\n",
            "  adding: content/resume_screener_pack/pyproject.toml (deflated 51%)\n"
          ]
        },
        {
          "output_type": "display_data",
          "data": {
            "text/plain": [
              "<IPython.core.display.Javascript object>"
            ],
            "application/javascript": [
              "\n",
              "    async function download(id, filename, size) {\n",
              "      if (!google.colab.kernel.accessAllowed) {\n",
              "        return;\n",
              "      }\n",
              "      const div = document.createElement('div');\n",
              "      const label = document.createElement('label');\n",
              "      label.textContent = `Downloading \"${filename}\": `;\n",
              "      div.appendChild(label);\n",
              "      const progress = document.createElement('progress');\n",
              "      progress.max = size;\n",
              "      div.appendChild(progress);\n",
              "      document.body.appendChild(div);\n",
              "\n",
              "      const buffers = [];\n",
              "      let downloaded = 0;\n",
              "\n",
              "      const channel = await google.colab.kernel.comms.open(id);\n",
              "      // Send a message to notify the kernel that we're ready.\n",
              "      channel.send({})\n",
              "\n",
              "      for await (const message of channel.messages) {\n",
              "        // Send a message to notify the kernel that we're ready.\n",
              "        channel.send({})\n",
              "        if (message.buffers) {\n",
              "          for (const buffer of message.buffers) {\n",
              "            buffers.push(buffer);\n",
              "            downloaded += buffer.byteLength;\n",
              "            progress.value = downloaded;\n",
              "          }\n",
              "        }\n",
              "      }\n",
              "      const blob = new Blob(buffers, {type: 'application/binary'});\n",
              "      const a = document.createElement('a');\n",
              "      a.href = window.URL.createObjectURL(blob);\n",
              "      a.download = filename;\n",
              "      div.appendChild(a);\n",
              "      a.click();\n",
              "      div.remove();\n",
              "    }\n",
              "  "
            ]
          },
          "metadata": {}
        },
        {
          "output_type": "display_data",
          "data": {
            "text/plain": [
              "<IPython.core.display.Javascript object>"
            ],
            "application/javascript": [
              "download(\"download_7b829d95-67b5-4e0f-8e1a-99b0e441ab28\", \"resume_screener_pack.zip\", 15120)"
            ]
          },
          "metadata": {}
        }
      ]
    },
    {
      "cell_type": "markdown",
      "source": [
        "# Code Gradio space app"
      ],
      "metadata": {
        "id": "ys15ppgmyGRt"
      },
      "id": "ys15ppgmyGRt"
    },
    {
      "cell_type": "code",
      "source": [
        "import gradio as gr\n",
        "import os\n",
        "#from google.colab import userdata\n",
        "from resume_screener_pack.llama_index.packs.resume_screener.base import ResumeScreenerPack as llamapack\n",
        "\n",
        "\n",
        "\n",
        "# Job description and criteria\n",
        "meta_jd = \"\"\"\\\n",
        "Meta is embarking on the most transformative change to its business and technology in company history, and our Machine Learning Engineers are at the forefront of this evolution. By leading crucial projects and initiatives that have never been done before, you have an opportunity to help us advance the way people connect around the world.\n",
        "\n",
        "The ideal candidate will have industry experience working on a range of recommendation, classification, and optimization problems. You will bring the ability to own the whole ML life cycle, define projects and drive excellence across teams. You will work alongside the world’s leading engineers and researchers to solve some of the most exciting and massive social data and prediction problems that exist on the web.\\\n",
        "\"\"\"\n",
        "\n",
        "criteria = [\n",
        "    \"2+ years of experience in one or more of the following areas: machine learning, recommendation systems, pattern recognition, data mining, artificial intelligence, or related technical field\",\n",
        "    \"Experience demonstrating technical leadership working with teams, owning projects, defining and setting technical direction for projects\",\n",
        "    \"Bachelor's degree in Computer Science, Computer Engineering, relevant technical field, or equivalent practical experience.\",\n",
        "]\n",
        "\n",
        "# Set OpenAI API key\n",
        "os.environ['OPENAI_API_KEY'] = os.getenv(\"openai_key\")    #userdata.get('openAI2024')\n",
        "\n",
        "# Define the resume screening function\n",
        "def screen_resume(resume):\n",
        "    resume_screener = llamapack(\n",
        "        job_description=meta_jd,\n",
        "        criteria=criteria,\n",
        "    )\n",
        "    response = resume_screener.run(resume_path=resume)\n",
        "\n",
        "    decisions = []\n",
        "    for cd in response.criteria_decisions:\n",
        "        decisions.append(f\"### CRITERIA DECISION\\n{cd.reasoning}\\nDecision: {cd.decision}\\n\")\n",
        "\n",
        "    overall_reasoning = f\"#### OVERALL REASONING #####\\n{str(response.overall_reasoning)}\\nOverall Decision: {str(response.overall_decision)}\"\n",
        "\n",
        "    return \"\\n\".join(decisions) + \"\\n\" + overall_reasoning\n",
        "\n",
        "# Create the Gradio interface\n",
        "iface = gr.Interface(\n",
        "    fn=screen_resume,\n",
        "    inputs=gr.File(file_types=[\".pdf\"]),\n",
        "    outputs=\"text\",\n",
        "    title=\"Resume Screener\",\n",
        "    description=\"Upload a PDF resume to screen it according to the provided job description and criteria.\"\n",
        ")\n",
        "\n",
        "# Launch the interface\n",
        "iface.launch(auth=(\"atomcamp\", \"12345678\"))"
      ],
      "metadata": {
        "id": "sqhV6ztsyKYN"
      },
      "id": "sqhV6ztsyKYN",
      "execution_count": null,
      "outputs": []
    }
  ],
  "metadata": {
    "kernelspec": {
      "display_name": "llama_index_v2",
      "language": "python",
      "name": "llama_index_v2"
    },
    "language_info": {
      "codemirror_mode": {
        "name": "ipython",
        "version": 3
      },
      "file_extension": ".py",
      "mimetype": "text/x-python",
      "name": "python",
      "nbconvert_exporter": "python",
      "pygments_lexer": "ipython3"
    },
    "colab": {
      "provenance": []
    }
  },
  "nbformat": 4,
  "nbformat_minor": 5
}